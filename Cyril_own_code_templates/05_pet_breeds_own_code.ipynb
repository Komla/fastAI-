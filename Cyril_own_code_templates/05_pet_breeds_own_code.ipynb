{
  "nbformat": 4,
  "nbformat_minor": 0,
  "metadata": {
    "colab": {
      "name": "05_pet_breeds_own_code.ipynb",
      "provenance": [],
      "include_colab_link": true
    },
    "kernelspec": {
      "name": "python3",
      "display_name": "Python 3"
    },
    "language_info": {
      "name": "python"
    }
  },
  "cells": [
    {
      "cell_type": "markdown",
      "metadata": {
        "id": "view-in-github",
        "colab_type": "text"
      },
      "source": [
        "<a href=\"https://colab.research.google.com/github/Komla/fastAI-/blob/main/Cyril_own_code_templates/05_pet_breeds_own_code.ipynb\" target=\"_parent\"><img src=\"https://colab.research.google.com/assets/colab-badge.svg\" alt=\"Open In Colab\"/></a>"
      ]
    },
    {
      "cell_type": "markdown",
      "metadata": {
        "id": "8DRDwhuT0aK-"
      },
      "source": [
        "# Computer Vision Image Classification - Own Code"
      ]
    },
    {
      "cell_type": "markdown",
      "metadata": {
        "id": "0yyhEElmXj6F"
      },
      "source": [
        "Lesson 4 video from time 1:09:40 to the end and\n",
        "\n",
        "Lesson 6 video from time 0:00:00 to 0:30:45   (skip lesson 4 video on ethics)"
      ]
    },
    {
      "cell_type": "markdown",
      "metadata": {
        "id": "6Wx8bGqF02Au"
      },
      "source": [
        "Own refactored code and notes for Chapter 5: *Pet Breeds with Assignments* (['05_pet_breads.ipynb'](https://colab.research.google.com/github/vtecftwy/fastbook/blob/master/05_pet_breeds_w_assignments.ipynb#scrollTo=qyx684frVK78))"
      ]
    },
    {
      "cell_type": "markdown",
      "metadata": {
        "id": "V37tVEsb2aGb"
      },
      "source": [
        "Refactor the code for the Image Classifier \"Cats and Dogs\" "
      ]
    },
    {
      "cell_type": "markdown",
      "metadata": {
        "id": "3-2BMB5p3Mdw"
      },
      "source": [
        "Rewrite the code for the image classifier that identifies Cats and Dogs; or, use your own data set that you have used before.\n",
        "- Only use the code necessary to load the data, create tbe DataLoaders, presize and or augment the images and then train the model using all the knowledge and tools you have learned from the book so far adding the new nowledge you have gained in this chapter.\n",
        "- Feel free to add any code that you perfer to use and make a note in the code as to why you perferred to use that code\n",
        "- Add your own comments that can be used for reference in the future."
      ]
    },
    {
      "cell_type": "markdown",
      "metadata": {
        "id": "1wHDQRuS4iuT"
      },
      "source": [
        "### Imports and setup"
      ]
    },
    {
      "cell_type": "code",
      "metadata": {
        "id": "gBQSImdq4h_E"
      },
      "source": [
        "!pip install -Uqq fastbook\n",
        "import fastbook\n",
        "fastbook.setup_book()"
      ],
      "execution_count": null,
      "outputs": []
    },
    {
      "cell_type": "code",
      "metadata": {
        "id": "iZGoVHFzeKb4"
      },
      "source": [
        "from fastbook import *"
      ],
      "execution_count": null,
      "outputs": []
    },
    {
      "cell_type": "code",
      "metadata": {
        "id": "9zdBDd6NeTBk"
      },
      "source": [
        "from fastai.vision.all import *\n",
        "\n",
        "path = untar_data(URLs.PETS)"
      ],
      "execution_count": null,
      "outputs": []
    },
    {
      "cell_type": "markdown",
      "metadata": {
        "id": "wIp6rbBf5IQ7"
      },
      "source": [
        "### Preparing the data"
      ]
    },
    {
      "cell_type": "code",
      "metadata": {
        "id": "V0FOK3YD0Mdi"
      },
      "source": [
        "pets = DataBlock(blocks = (ImageBlock, CategoryBlock),\n",
        "                 get_items=get_image_files, \n",
        "                 splitter=RandomSplitter(seed=42),\n",
        "                 get_y=using_attr(RegexLabeller(r'(.+)_\\d+.jpg$'), 'name'),\n",
        "                 item_tfms=Resize(460),\n",
        "                 batch_tfms=aug_transforms(size=224, min_scale=0.75))\n",
        "\n",
        "dls = pets.dataloaders(path/\"images\")"
      ],
      "execution_count": null,
      "outputs": []
    },
    {
      "cell_type": "code",
      "metadata": {
        "id": "UTGwby2NhYeW"
      },
      "source": [
        "dls.show()"
      ],
      "execution_count": null,
      "outputs": []
    },
    {
      "cell_type": "code",
      "metadata": {
        "id": "KFgrkw6hiRjZ"
      },
      "source": [
        "dls.show_batch(nrows=3, ncols=4)"
      ],
      "execution_count": null,
      "outputs": []
    },
    {
      "cell_type": "code",
      "metadata": {
        "id": "15el5hMrfidN"
      },
      "source": [
        "learn = cnn_learner(dls, resnet34, metrics=error_rate)\n",
        "learn.fine_tune(2)"
      ],
      "execution_count": null,
      "outputs": []
    },
    {
      "cell_type": "markdown",
      "metadata": {
        "id": "Xo5MY0nm5Vjb"
      },
      "source": [
        "### Optimising and improving the model"
      ]
    },
    {
      "cell_type": "code",
      "metadata": {
        "id": "--FHl4dFhzy4"
      },
      "source": [
        "learn = cnn_learner(dls, resnet34, metrics=error_rate)\n",
        "learn.fit_one_cycle(3, 3e-3)\n",
        "learn.unfreeze()\n",
        "learn.lr_find(suggest_funcs=(minimum, steep))"
      ],
      "execution_count": null,
      "outputs": []
    },
    {
      "cell_type": "code",
      "metadata": {
        "id": "aftrIJUw5q9n"
      },
      "source": [
        "learn = cnn_learner(dls, resnet34, metrics=error_rate)\n",
        "learn.fit_one_cycle(3, 3e-3)\n",
        "learn.unfreeze()\n",
        "learn.fit_one_cycle(12, lr_max=slice(1e-6,1e-4))"
      ],
      "execution_count": null,
      "outputs": []
    },
    {
      "cell_type": "code",
      "metadata": {
        "id": "S4bUpbC7fsOv"
      },
      "source": [
        "learn.recorder.plot_loss()"
      ],
      "execution_count": null,
      "outputs": []
    },
    {
      "cell_type": "markdown",
      "metadata": {
        "id": "xgqX2yK95rgt"
      },
      "source": [
        "### Training the Model"
      ]
    },
    {
      "cell_type": "code",
      "metadata": {
        "id": "nt0rCeNU5xkb"
      },
      "source": [
        ""
      ],
      "execution_count": null,
      "outputs": []
    },
    {
      "cell_type": "markdown",
      "metadata": {
        "id": "6mEvmHpl5yPP"
      },
      "source": [
        "###Evaluate the results and test the model"
      ]
    },
    {
      "cell_type": "code",
      "metadata": {
        "id": "IBgwFBup5y3w"
      },
      "source": [
        ""
      ],
      "execution_count": null,
      "outputs": []
    }
  ]
}