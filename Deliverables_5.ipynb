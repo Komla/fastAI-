{
  "nbformat": 4,
  "nbformat_minor": 0,
  "metadata": {
    "colab": {
      "name": "Untitled10.ipynb",
      "provenance": [],
      "authorship_tag": "ABX9TyNejKBoVgxBsztdNGKErtZK",
      "include_colab_link": true
    },
    "kernelspec": {
      "name": "python3",
      "display_name": "Python 3"
    },
    "language_info": {
      "name": "python"
    }
  },
  "cells": [
    {
      "cell_type": "markdown",
      "metadata": {
        "id": "view-in-github",
        "colab_type": "text"
      },
      "source": [
        "<a href=\"https://colab.research.google.com/github/Komla/fastAI-/blob/main/Deliverables_5.ipynb\" target=\"_parent\"><img src=\"https://colab.research.google.com/assets/colab-badge.svg\" alt=\"Open In Colab\"/></a>"
      ]
    },
    {
      "cell_type": "code",
      "metadata": {
        "id": "h8VKMtkePwDu"
      },
      "source": [
        "%reload_ext autoreload\n",
        "%autoreload 2\n",
        "%matplotlib inline "
      ],
      "execution_count": null,
      "outputs": []
    },
    {
      "cell_type": "code",
      "metadata": {
        "colab": {
          "base_uri": "https://localhost:8080/"
        },
        "id": "fN9Cp-jzRXx5",
        "outputId": "c3d83ccb-89d3-4bad-c2d1-69c2d8f909bf"
      },
      "source": [
        "#hide\n",
        "!pip install -Uqq fastbook\n",
        "import fastbook\n",
        "fastbook.setup_book()"
      ],
      "execution_count": null,
      "outputs": [
        {
          "output_type": "stream",
          "text": [
            "\u001b[K     |████████████████████████████████| 727kB 5.5MB/s \n",
            "\u001b[K     |████████████████████████████████| 51kB 4.5MB/s \n",
            "\u001b[K     |████████████████████████████████| 1.2MB 9.0MB/s \n",
            "\u001b[K     |████████████████████████████████| 194kB 19.2MB/s \n",
            "\u001b[K     |████████████████████████████████| 51kB 5.0MB/s \n",
            "\u001b[K     |████████████████████████████████| 61kB 5.9MB/s \n",
            "\u001b[K     |████████████████████████████████| 12.8MB 272kB/s \n",
            "\u001b[K     |████████████████████████████████| 776.8MB 21kB/s \n",
            "\u001b[31mERROR: torchtext 0.9.1 has requirement torch==1.8.1, but you'll have torch 1.7.1 which is incompatible.\u001b[0m\n",
            "\u001b[?25hMounted at /content/gdrive\n"
          ],
          "name": "stdout"
        }
      ]
    },
    {
      "cell_type": "code",
      "metadata": {
        "id": "t7kF1AfeUpns"
      },
      "source": [
        "#hide\n",
        "from fastai.vision.all import *\n",
        "from fastbook import *\n",
        "\n",
        "matplotlib.rc('image', cmap='Greys')"
      ],
      "execution_count": null,
      "outputs": []
    },
    {
      "cell_type": "code",
      "metadata": {
        "colab": {
          "base_uri": "https://localhost:8080/"
        },
        "id": "0kHqJiWMVX4o",
        "outputId": "adf4f73e-8caa-4520-d3b2-b89107fc9725"
      },
      "source": [
        "help(untar_data)"
      ],
      "execution_count": null,
      "outputs": [
        {
          "output_type": "stream",
          "text": [
            "Help on function untar_data in module fastai.data.external:\n",
            "\n",
            "untar_data(url, fname=None, dest=None, c_key='data', force_download=False, extract_func=<function file_extract at 0x7f1251a560e0>, timeout=4)\n",
            "    Download `url` to `fname` if `dest` doesn't exist, and un-tgz or unzip to folder `dest`.\n",
            "\n"
          ],
          "name": "stdout"
        }
      ]
    },
    {
      "cell_type": "code",
      "metadata": {
        "colab": {
          "base_uri": "https://localhost:8080/",
          "height": 17
        },
        "id": "DWCpExKUV2bD",
        "outputId": "f4571e49-704e-40b6-a529-7e025a19679f"
      },
      "source": [
        "path = untar_data(URLs.MNIST_SAMPLE)"
      ],
      "execution_count": null,
      "outputs": [
        {
          "output_type": "display_data",
          "data": {
            "text/html": [
              ""
            ],
            "text/plain": [
              "<IPython.core.display.HTML object>"
            ]
          },
          "metadata": {
            "tags": []
          }
        }
      ]
    },
    {
      "cell_type": "code",
      "metadata": {
        "colab": {
          "base_uri": "https://localhost:8080/"
        },
        "id": "YuiNXKQHYIFa",
        "outputId": "dc293011-90ae-4518-8983-f4a217b1d59c"
      },
      "source": [
        "#this shows you were the file is downloaded to\n",
        "path.ls()"
      ],
      "execution_count": null,
      "outputs": [
        {
          "output_type": "execute_result",
          "data": {
            "text/plain": [
              "(#3) [Path('train'),Path('labels.csv'),Path('valid')]"
            ]
          },
          "metadata": {
            "tags": []
          },
          "execution_count": 24
        }
      ]
    },
    {
      "cell_type": "code",
      "metadata": {
        "id": "2Za5NOvAYVN6"
      },
      "source": [
        "Path.BASE_PATH = path"
      ],
      "execution_count": null,
      "outputs": []
    },
    {
      "cell_type": "code",
      "metadata": {
        "colab": {
          "base_uri": "https://localhost:8080/"
        },
        "id": "u80vmmwHZXVQ",
        "outputId": "6c21b270-a0a1-41a6-b64b-03f7db9b87e0"
      },
      "source": [
        "path.ls()"
      ],
      "execution_count": null,
      "outputs": [
        {
          "output_type": "execute_result",
          "data": {
            "text/plain": [
              "(#3) [Path('train'),Path('labels.csv'),Path('valid')]"
            ]
          },
          "metadata": {
            "tags": []
          },
          "execution_count": 17
        }
      ]
    },
    {
      "cell_type": "code",
      "metadata": {
        "colab": {
          "base_uri": "https://localhost:8080/"
        },
        "id": "SXEN7HvfZsy2",
        "outputId": "0e783de5-afa4-4c24-e5cd-69bed2edd5e6"
      },
      "source": [
        "(path/'train').ls()"
      ],
      "execution_count": null,
      "outputs": [
        {
          "output_type": "execute_result",
          "data": {
            "text/plain": [
              "(#2) [Path('train/7'),Path('train/3')]"
            ]
          },
          "metadata": {
            "tags": []
          },
          "execution_count": 18
        }
      ]
    },
    {
      "cell_type": "code",
      "metadata": {
        "colab": {
          "base_uri": "https://localhost:8080/"
        },
        "id": "HS-FZDXzancI",
        "outputId": "7fd51dc7-fe64-46ea-8c66-7675cc6ad67a"
      },
      "source": [
        "# You can get the list of images of SEVENS with specific range Command\n",
        "fnames = get_image_files_sorted(path/'train/7')\n",
        "fnames[:5]"
      ],
      "execution_count": null,
      "outputs": [
        {
          "output_type": "execute_result",
          "data": {
            "text/plain": [
              "(#5) [Path('train/7/10002.png'),Path('train/7/1001.png'),Path('train/7/10014.png'),Path('train/7/10019.png'),Path('train/7/10039.png')]"
            ]
          },
          "metadata": {
            "tags": []
          },
          "execution_count": 28
        }
      ]
    },
    {
      "cell_type": "code",
      "metadata": {
        "colab": {
          "base_uri": "https://localhost:8080/"
        },
        "id": "Pd1cvAhRbosc",
        "outputId": "4bef2e67-ec97-49a8-ceff-d96f27106731"
      },
      "source": [
        "# You can also get the images of SEVENS with this command\n",
        "sevens = (path/'train'/'7').ls().sorted()\n",
        "sevens"
      ],
      "execution_count": null,
      "outputs": [
        {
          "output_type": "execute_result",
          "data": {
            "text/plain": [
              "(#6265) [Path('train/7/10002.png'),Path('train/7/1001.png'),Path('train/7/10014.png'),Path('train/7/10019.png'),Path('train/7/10039.png'),Path('train/7/10046.png'),Path('train/7/10050.png'),Path('train/7/10063.png'),Path('train/7/10077.png'),Path('train/7/10086.png')...]"
            ]
          },
          "metadata": {
            "tags": []
          },
          "execution_count": 21
        }
      ]
    },
    {
      "cell_type": "code",
      "metadata": {
        "colab": {
          "base_uri": "https://localhost:8080/",
          "height": 45
        },
        "id": "6JtBHp4qcgsw",
        "outputId": "441042d0-4376-49be-f872-8b6721eacd3c"
      },
      "source": [
        "im7_path = sevens[8]\n",
        "im7 = Image.open(im7_path)\n",
        "im7"
      ],
      "execution_count": null,
      "outputs": [
        {
          "output_type": "execute_result",
          "data": {
            "image/png": "[encoded data removed]",
            "text/plain": [
              "<PIL.PngImagePlugin.PngImageFile image mode=L size=28x28 at 0x7F123E2F3890>"
            ]
          },
          "metadata": {
            "tags": []
          },
          "execution_count": 23
        }
      ]
    },
    {
      "cell_type": "code",
      "metadata": {
        "colab": {
          "base_uri": "https://localhost:8080/"
        },
        "id": "jX_ivMrkfWQK",
        "outputId": "6b4f85b2-22cd-4eb7-c376-f7d93519d4fd"
      },
      "source": [
        "array(im7)[4:10,4:10]"
      ],
      "execution_count": null,
      "outputs": [
        {
          "output_type": "execute_result",
          "data": {
            "text/plain": [
              "array([[  0,   0,   0,   0,   0,   0],\n",
              "       [  0,   0,   0,   0,   0,   0],\n",
              "       [  0,   0,   0,   0,   0,   0],\n",
              "       [  0,   0,   0,   0,   0,   0],\n",
              "       [  0,   0,   0,   0,   0,  13],\n",
              "       [  0,   0,   0,   0,   0, 147]], dtype=uint8)"
            ]
          },
          "metadata": {
            "tags": []
          },
          "execution_count": 29
        }
      ]
    },
    {
      "cell_type": "code",
      "metadata": {
        "colab": {
          "base_uri": "https://localhost:8080/"
        },
        "id": "ZLvN4jillAyG",
        "outputId": "25a53d44-8870-4071-8797-e942a65ff5c7"
      },
      "source": [
        "tensor(im7)[4:10,4:10]"
      ],
      "execution_count": null,
      "outputs": [
        {
          "output_type": "execute_result",
          "data": {
            "text/plain": [
              "tensor([[  0,   0,   0,   0,   0,   0],\n",
              "        [  0,   0,   0,   0,   0,   0],\n",
              "        [  0,   0,   0,   0,   0,   0],\n",
              "        [  0,   0,   0,   0,   0,   0],\n",
              "        [  0,   0,   0,   0,   0,  13],\n",
              "        [  0,   0,   0,   0,   0, 147]], dtype=torch.uint8)"
            ]
          },
          "metadata": {
            "tags": []
          },
          "execution_count": 30
        }
      ]
    },
    {
      "cell_type": "code",
      "metadata": {
        "colab": {
          "base_uri": "https://localhost:8080/",
          "height": 425
        },
        "id": "n7WO7KiHlWHX",
        "outputId": "7173d3d6-d7d3-403d-d781-b2da19443320"
      },
      "source": [
        "#Printing the image into a DataFrame to see its computer version\n",
        "im7_t = tensor(im7)\n",
        "df = pd.DataFrame(im7_t[4:22,4:22])\n",
        "df.style.set_properties(**{'font-size':'6pt'}).background_gradient('Greys')"
      ],
      "execution_count": null,
      "outputs": [
        {
          "output_type": "execute_result",
          "data": {
            "text/html": [
              "<style  type=\"text/css\" >\n",
              "#T_256a2f54_95d3_11eb_9a88_0242ac1c0002row0_col0,#T_256a2f54_95d3_11eb_9a88_0242ac1c0002row0_col1,#T_256a2f54_95d3_11eb_9a88_0242ac1c0002row0_col2,#T_256a2f54_95d3_11eb_9a88_0242ac1c0002row0_col3,#T_256a2f54_95d3_11eb_9a88_0242ac1c0002row0_col4,#T_256a2f54_95d3_11eb_9a88_0242ac1c0002row0_col5,#T_256a2f54_95d3_11eb_9a88_0242ac1c0002row0_col6,#T_256a2f54_95d3_11eb_9a88_0242ac1c0002row0_col7,#T_256a2f54_95d3_11eb_9a88_0242ac1c0002row0_col8,#T_256a2f54_95d3_11eb_9a88_0242ac1c0002row0_col9,#T_256a2f54_95d3_11eb_9a88_0242ac1c0002row0_col10,#T_256a2f54_95d3_11eb_9a88_0242ac1c0002row0_col11,#T_256a2f54_95d3_11eb_9a88_0242ac1c0002row0_col12,#T_256a2f54_95d3_11eb_9a88_0242ac1c0002row0_col13,#T_256a2f54_95d3_11eb_9a88_0242ac1c0002row0_col14,#T_256a2f54_95d3_11eb_9a88_0242ac1c0002row0_col15,#T_256a2f54_95d3_11eb_9a88_0242ac1c0002row0_col16,#T_256a2f54_95d3_11eb_9a88_0242ac1c0002row0_col17,#T_256a2f54_95d3_11eb_9a88_0242ac1c0002row1_col0,#T_256a2f54_95d3_11eb_9a88_0242ac1c0002row1_col1,#T_256a2f54_95d3_11eb_9a88_0242ac1c0002row1_col2,#T_256a2f54_95d3_11eb_9a88_0242ac1c0002row1_col3,#T_256a2f54_95d3_11eb_9a88_0242ac1c0002row1_col4,#T_256a2f54_95d3_11eb_9a88_0242ac1c0002row1_col5,#T_256a2f54_95d3_11eb_9a88_0242ac1c0002row1_col6,#T_256a2f54_95d3_11eb_9a88_0242ac1c0002row1_col7,#T_256a2f54_95d3_11eb_9a88_0242ac1c0002row1_col8,#T_256a2f54_95d3_11eb_9a88_0242ac1c0002row1_col9,#T_256a2f54_95d3_11eb_9a88_0242ac1c0002row1_col10,#T_256a2f54_95d3_11eb_9a88_0242ac1c0002row1_col11,#T_256a2f54_95d3_11eb_9a88_0242ac1c0002row1_col12,#T_256a2f54_95d3_11eb_9a88_0242ac1c0002row1_col13,#T_256a2f54_95d3_11eb_9a88_0242ac1c0002row1_col14,#T_256a2f54_95d3_11eb_9a88_0242ac1c0002row1_col15,#T_256a2f54_95d3_11eb_9a88_0242ac1c0002row1_col16,#T_256a2f54_95d3_11eb_9a88_0242ac1c0002row1_col17,#T_256a2f54_95d3_11eb_9a88_0242ac1c0002row2_col0,#T_256a2f54_95d3_11eb_9a88_0242ac1c0002row2_col1,#T_256a2f54_95d3_11eb_9a88_0242ac1c0002row2_col2,#T_256a2f54_95d3_11eb_9a88_0242ac1c0002row2_col3,#T_256a2f54_95d3_11eb_9a88_0242ac1c0002row2_col4,#T_256a2f54_95d3_11eb_9a88_0242ac1c0002row2_col5,#T_256a2f54_95d3_11eb_9a88_0242ac1c0002row2_col6,#T_256a2f54_95d3_11eb_9a88_0242ac1c0002row2_col7,#T_256a2f54_95d3_11eb_9a88_0242ac1c0002row2_col8,#T_256a2f54_95d3_11eb_9a88_0242ac1c0002row2_col9,#T_256a2f54_95d3_11eb_9a88_0242ac1c0002row2_col10,#T_256a2f54_95d3_11eb_9a88_0242ac1c0002row2_col11,#T_256a2f54_95d3_11eb_9a88_0242ac1c0002row2_col12,#T_256a2f54_95d3_11eb_9a88_0242ac1c0002row2_col13,#T_256a2f54_95d3_11eb_9a88_0242ac1c0002row2_col14,#T_256a2f54_95d3_11eb_9a88_0242ac1c0002row2_col15,#T_256a2f54_95d3_11eb_9a88_0242ac1c0002row2_col16,#T_256a2f54_95d3_11eb_9a88_0242ac1c0002row2_col17,#T_256a2f54_95d3_11eb_9a88_0242ac1c0002row3_col0,#T_256a2f54_95d3_11eb_9a88_0242ac1c0002row3_col1,#T_256a2f54_95d3_11eb_9a88_0242ac1c0002row3_col2,#T_256a2f54_95d3_11eb_9a88_0242ac1c0002row3_col3,#T_256a2f54_95d3_11eb_9a88_0242ac1c0002row3_col4,#T_256a2f54_95d3_11eb_9a88_0242ac1c0002row3_col5,#T_256a2f54_95d3_11eb_9a88_0242ac1c0002row3_col6,#T_256a2f54_95d3_11eb_9a88_0242ac1c0002row3_col17,#T_256a2f54_95d3_11eb_9a88_0242ac1c0002row4_col0,#T_256a2f54_95d3_11eb_9a88_0242ac1c0002row4_col1,#T_256a2f54_95d3_11eb_9a88_0242ac1c0002row4_col2,#T_256a2f54_95d3_11eb_9a88_0242ac1c0002row4_col3,#T_256a2f54_95d3_11eb_9a88_0242ac1c0002row4_col4,#T_256a2f54_95d3_11eb_9a88_0242ac1c0002row4_col17,#T_256a2f54_95d3_11eb_9a88_0242ac1c0002row5_col0,#T_256a2f54_95d3_11eb_9a88_0242ac1c0002row5_col1,#T_256a2f54_95d3_11eb_9a88_0242ac1c0002row5_col2,#T_256a2f54_95d3_11eb_9a88_0242ac1c0002row5_col3,#T_256a2f54_95d3_11eb_9a88_0242ac1c0002row5_col4,#T_256a2f54_95d3_11eb_9a88_0242ac1c0002row5_col17,#T_256a2f54_95d3_11eb_9a88_0242ac1c0002row6_col0,#T_256a2f54_95d3_11eb_9a88_0242ac1c0002row6_col1,#T_256a2f54_95d3_11eb_9a88_0242ac1c0002row6_col2,#T_256a2f54_95d3_11eb_9a88_0242ac1c0002row6_col3,#T_256a2f54_95d3_11eb_9a88_0242ac1c0002row6_col4,#T_256a2f54_95d3_11eb_9a88_0242ac1c0002row6_col9,#T_256a2f54_95d3_11eb_9a88_0242ac1c0002row6_col10,#T_256a2f54_95d3_11eb_9a88_0242ac1c0002row6_col11,#T_256a2f54_95d3_11eb_9a88_0242ac1c0002row6_col12,#T_256a2f54_95d3_11eb_9a88_0242ac1c0002row6_col13,#T_256a2f54_95d3_11eb_9a88_0242ac1c0002row6_col17,#T_256a2f54_95d3_11eb_9a88_0242ac1c0002row7_col0,#T_256a2f54_95d3_11eb_9a88_0242ac1c0002row7_col1,#T_256a2f54_95d3_11eb_9a88_0242ac1c0002row7_col2,#T_256a2f54_95d3_11eb_9a88_0242ac1c0002row7_col3,#T_256a2f54_95d3_11eb_9a88_0242ac1c0002row7_col4,#T_256a2f54_95d3_11eb_9a88_0242ac1c0002row7_col8,#T_256a2f54_95d3_11eb_9a88_0242ac1c0002row7_col9,#T_256a2f54_95d3_11eb_9a88_0242ac1c0002row7_col10,#T_256a2f54_95d3_11eb_9a88_0242ac1c0002row7_col11,#T_256a2f54_95d3_11eb_9a88_0242ac1c0002row7_col12,#T_256a2f54_95d3_11eb_9a88_0242ac1c0002row7_col13,#T_256a2f54_95d3_11eb_9a88_0242ac1c0002row7_col17,#T_256a2f54_95d3_11eb_9a88_0242ac1c0002row8_col0,#T_256a2f54_95d3_11eb_9a88_0242ac1c0002row8_col1,#T_256a2f54_95d3_11eb_9a88_0242ac1c0002row8_col2,#T_256a2f54_95d3_11eb_9a88_0242ac1c0002row8_col3,#T_256a2f54_95d3_11eb_9a88_0242ac1c0002row8_col4,#T_256a2f54_95d3_11eb_9a88_0242ac1c0002row8_col5,#T_256a2f54_95d3_11eb_9a88_0242ac1c0002row8_col6,#T_256a2f54_95d3_11eb_9a88_0242ac1c0002row8_col7,#T_256a2f54_95d3_11eb_9a88_0242ac1c0002row8_col8,#T_256a2f54_95d3_11eb_9a88_0242ac1c0002row8_col9,#T_256a2f54_95d3_11eb_9a88_0242ac1c0002row8_col10,#T_256a2f54_95d3_11eb_9a88_0242ac1c0002row8_col11,#T_256a2f54_95d3_11eb_9a88_0242ac1c0002row8_col12,#T_256a2f54_95d3_11eb_9a88_0242ac1c0002row8_col16,#T_256a2f54_95d3_11eb_9a88_0242ac1c0002row8_col17,#T_256a2f54_95d3_11eb_9a88_0242ac1c0002row9_col0,#T_256a2f54_95d3_11eb_9a88_0242ac1c0002row9_col1,#T_256a2f54_95d3_11eb_9a88_0242ac1c0002row9_col2,#T_256a2f54_95d3_11eb_9a88_0242ac1c0002row9_col3,#T_256a2f54_95d3_11eb_9a88_0242ac1c0002row9_col4,#T_256a2f54_95d3_11eb_9a88_0242ac1c0002row9_col5,#T_256a2f54_95d3_11eb_9a88_0242ac1c0002row9_col6,#T_256a2f54_95d3_11eb_9a88_0242ac1c0002row9_col7,#T_256a2f54_95d3_11eb_9a88_0242ac1c0002row9_col8,#T_256a2f54_95d3_11eb_9a88_0242ac1c0002row9_col9,#T_256a2f54_95d3_11eb_9a88_0242ac1c0002row9_col10,#T_256a2f54_95d3_11eb_9a88_0242ac1c0002row9_col11,#T_256a2f54_95d3_11eb_9a88_0242ac1c0002row9_col12,#T_256a2f54_95d3_11eb_9a88_0242ac1c0002row9_col16,#T_256a2f54_95d3_11eb_9a88_0242ac1c0002row9_col17,#T_256a2f54_95d3_11eb_9a88_0242ac1c0002row10_col0,#T_256a2f54_95d3_11eb_9a88_0242ac1c0002row10_col1,#T_256a2f54_95d3_11eb_9a88_0242ac1c0002row10_col2,#T_256a2f54_95d3_11eb_9a88_0242ac1c0002row10_col3,#T_256a2f54_95d3_11eb_9a88_0242ac1c0002row10_col4,#T_256a2f54_95d3_11eb_9a88_0242ac1c0002row10_col5,#T_256a2f54_95d3_11eb_9a88_0242ac1c0002row10_col6,#T_256a2f54_95d3_11eb_9a88_0242ac1c0002row10_col7,#T_256a2f54_95d3_11eb_9a88_0242ac1c0002row10_col8,#T_256a2f54_95d3_11eb_9a88_0242ac1c0002row10_col9,#T_256a2f54_95d3_11eb_9a88_0242ac1c0002row10_col10,#T_256a2f54_95d3_11eb_9a88_0242ac1c0002row10_col11,#T_256a2f54_95d3_11eb_9a88_0242ac1c0002row10_col16,#T_256a2f54_95d3_11eb_9a88_0242ac1c0002row10_col17,#T_256a2f54_95d3_11eb_9a88_0242ac1c0002row11_col0,#T_256a2f54_95d3_11eb_9a88_0242ac1c0002row11_col1,#T_256a2f54_95d3_11eb_9a88_0242ac1c0002row11_col2,#T_256a2f54_95d3_11eb_9a88_0242ac1c0002row11_col3,#T_256a2f54_95d3_11eb_9a88_0242ac1c0002row11_col4,#T_256a2f54_95d3_11eb_9a88_0242ac1c0002row11_col5,#T_256a2f54_95d3_11eb_9a88_0242ac1c0002row11_col6,#T_256a2f54_95d3_11eb_9a88_0242ac1c0002row11_col7,#T_256a2f54_95d3_11eb_9a88_0242ac1c0002row11_col8,#T_256a2f54_95d3_11eb_9a88_0242ac1c0002row11_col9,#T_256a2f54_95d3_11eb_9a88_0242ac1c0002row11_col10,#T_256a2f54_95d3_11eb_9a88_0242ac1c0002row11_col11,#T_256a2f54_95d3_11eb_9a88_0242ac1c0002row11_col15,#T_256a2f54_95d3_11eb_9a88_0242ac1c0002row11_col16,#T_256a2f54_95d3_11eb_9a88_0242ac1c0002row11_col17,#T_256a2f54_95d3_11eb_9a88_0242ac1c0002row12_col0,#T_256a2f54_95d3_11eb_9a88_0242ac1c0002row12_col1,#T_256a2f54_95d3_11eb_9a88_0242ac1c0002row12_col2,#T_256a2f54_95d3_11eb_9a88_0242ac1c0002row12_col3,#T_256a2f54_95d3_11eb_9a88_0242ac1c0002row12_col4,#T_256a2f54_95d3_11eb_9a88_0242ac1c0002row12_col5,#T_256a2f54_95d3_11eb_9a88_0242ac1c0002row12_col6,#T_256a2f54_95d3_11eb_9a88_0242ac1c0002row12_col7,#T_256a2f54_95d3_11eb_9a88_0242ac1c0002row12_col8,#T_256a2f54_95d3_11eb_9a88_0242ac1c0002row12_col9,#T_256a2f54_95d3_11eb_9a88_0242ac1c0002row12_col10,#T_256a2f54_95d3_11eb_9a88_0242ac1c0002row12_col15,#T_256a2f54_95d3_11eb_9a88_0242ac1c0002row12_col16,#T_256a2f54_95d3_11eb_9a88_0242ac1c0002row12_col17,#T_256a2f54_95d3_11eb_9a88_0242ac1c0002row13_col0,#T_256a2f54_95d3_11eb_9a88_0242ac1c0002row13_col1,#T_256a2f54_95d3_11eb_9a88_0242ac1c0002row13_col2,#T_256a2f54_95d3_11eb_9a88_0242ac1c0002row13_col3,#T_256a2f54_95d3_11eb_9a88_0242ac1c0002row13_col4,#T_256a2f54_95d3_11eb_9a88_0242ac1c0002row13_col5,#T_256a2f54_95d3_11eb_9a88_0242ac1c0002row13_col6,#T_256a2f54_95d3_11eb_9a88_0242ac1c0002row13_col7,#T_256a2f54_95d3_11eb_9a88_0242ac1c0002row13_col8,#T_256a2f54_95d3_11eb_9a88_0242ac1c0002row13_col9,#T_256a2f54_95d3_11eb_9a88_0242ac1c0002row13_col10,#T_256a2f54_95d3_11eb_9a88_0242ac1c0002row13_col14,#T_256a2f54_95d3_11eb_9a88_0242ac1c0002row13_col15,#T_256a2f54_95d3_11eb_9a88_0242ac1c0002row13_col16,#T_256a2f54_95d3_11eb_9a88_0242ac1c0002row13_col17,#T_256a2f54_95d3_11eb_9a88_0242ac1c0002row14_col0,#T_256a2f54_95d3_11eb_9a88_0242ac1c0002row14_col1,#T_256a2f54_95d3_11eb_9a88_0242ac1c0002row14_col2,#T_256a2f54_95d3_11eb_9a88_0242ac1c0002row14_col3,#T_256a2f54_95d3_11eb_9a88_0242ac1c0002row14_col4,#T_256a2f54_95d3_11eb_9a88_0242ac1c0002row14_col5,#T_256a2f54_95d3_11eb_9a88_0242ac1c0002row14_col6,#T_256a2f54_95d3_11eb_9a88_0242ac1c0002row14_col7,#T_256a2f54_95d3_11eb_9a88_0242ac1c0002row14_col8,#T_256a2f54_95d3_11eb_9a88_0242ac1c0002row14_col9,#T_256a2f54_95d3_11eb_9a88_0242ac1c0002row14_col14,#T_256a2f54_95d3_11eb_9a88_0242ac1c0002row14_col15,#T_256a2f54_95d3_11eb_9a88_0242ac1c0002row14_col16,#T_256a2f54_95d3_11eb_9a88_0242ac1c0002row14_col17,#T_256a2f54_95d3_11eb_9a88_0242ac1c0002row15_col0,#T_256a2f54_95d3_11eb_9a88_0242ac1c0002row15_col1,#T_256a2f54_95d3_11eb_9a88_0242ac1c0002row15_col2,#T_256a2f54_95d3_11eb_9a88_0242ac1c0002row15_col3,#T_256a2f54_95d3_11eb_9a88_0242ac1c0002row15_col4,#T_256a2f54_95d3_11eb_9a88_0242ac1c0002row15_col5,#T_256a2f54_95d3_11eb_9a88_0242ac1c0002row15_col6,#T_256a2f54_95d3_11eb_9a88_0242ac1c0002row15_col7,#T_256a2f54_95d3_11eb_9a88_0242ac1c0002row15_col8,#T_256a2f54_95d3_11eb_9a88_0242ac1c0002row15_col13,#T_256a2f54_95d3_11eb_9a88_0242ac1c0002row15_col14,#T_256a2f54_95d3_11eb_9a88_0242ac1c0002row15_col15,#T_256a2f54_95d3_11eb_9a88_0242ac1c0002row15_col16,#T_256a2f54_95d3_11eb_9a88_0242ac1c0002row15_col17,#T_256a2f54_95d3_11eb_9a88_0242ac1c0002row16_col0,#T_256a2f54_95d3_11eb_9a88_0242ac1c0002row16_col1,#T_256a2f54_95d3_11eb_9a88_0242ac1c0002row16_col2,#T_256a2f54_95d3_11eb_9a88_0242ac1c0002row16_col3,#T_256a2f54_95d3_11eb_9a88_0242ac1c0002row16_col4,#T_256a2f54_95d3_11eb_9a88_0242ac1c0002row16_col5,#T_256a2f54_95d3_11eb_9a88_0242ac1c0002row16_col6,#T_256a2f54_95d3_11eb_9a88_0242ac1c0002row16_col7,#T_256a2f54_95d3_11eb_9a88_0242ac1c0002row16_col12,#T_256a2f54_95d3_11eb_9a88_0242ac1c0002row16_col13,#T_256a2f54_95d3_11eb_9a88_0242ac1c0002row16_col14,#T_256a2f54_95d3_11eb_9a88_0242ac1c0002row16_col15,#T_256a2f54_95d3_11eb_9a88_0242ac1c0002row16_col16,#T_256a2f54_95d3_11eb_9a88_0242ac1c0002row16_col17,#T_256a2f54_95d3_11eb_9a88_0242ac1c0002row17_col0,#T_256a2f54_95d3_11eb_9a88_0242ac1c0002row17_col1,#T_256a2f54_95d3_11eb_9a88_0242ac1c0002row17_col2,#T_256a2f54_95d3_11eb_9a88_0242ac1c0002row17_col3,#T_256a2f54_95d3_11eb_9a88_0242ac1c0002row17_col4,#T_256a2f54_95d3_11eb_9a88_0242ac1c0002row17_col5,#T_256a2f54_95d3_11eb_9a88_0242ac1c0002row17_col6,#T_256a2f54_95d3_11eb_9a88_0242ac1c0002row17_col12,#T_256a2f54_95d3_11eb_9a88_0242ac1c0002row17_col13,#T_256a2f54_95d3_11eb_9a88_0242ac1c0002row17_col14,#T_256a2f54_95d3_11eb_9a88_0242ac1c0002row17_col15,#T_256a2f54_95d3_11eb_9a88_0242ac1c0002row17_col16,#T_256a2f54_95d3_11eb_9a88_0242ac1c0002row17_col17{\n",
              "            font-size:  6pt;\n",
              "            background-color:  #ffffff;\n",
              "            color:  #000000;\n",
              "        }#T_256a2f54_95d3_11eb_9a88_0242ac1c0002row3_col7{\n",
              "            font-size:  6pt;\n",
              "            background-color:  #d1d1d1;\n",
              "            color:  #000000;\n",
              "        }#T_256a2f54_95d3_11eb_9a88_0242ac1c0002row3_col8,#T_256a2f54_95d3_11eb_9a88_0242ac1c0002row3_col9{\n",
              "            font-size:  6pt;\n",
              "            background-color:  #6a6a6a;\n",
              "            color:  #000000;\n",
              "        }#T_256a2f54_95d3_11eb_9a88_0242ac1c0002row3_col10{\n",
              "            font-size:  6pt;\n",
              "            background-color:  #afafaf;\n",
              "            color:  #000000;\n",
              "        }#T_256a2f54_95d3_11eb_9a88_0242ac1c0002row3_col11,#T_256a2f54_95d3_11eb_9a88_0242ac1c0002row3_col12{\n",
              "            font-size:  6pt;\n",
              "            background-color:  #cbcbcb;\n",
              "            color:  #000000;\n",
              "        }#T_256a2f54_95d3_11eb_9a88_0242ac1c0002row3_col13{\n",
              "            font-size:  6pt;\n",
              "            background-color:  #b6b6b6;\n",
              "            color:  #000000;\n",
              "        }#T_256a2f54_95d3_11eb_9a88_0242ac1c0002row3_col14{\n",
              "            font-size:  6pt;\n",
              "            background-color:  #2f2f2f;\n",
              "            color:  #f1f1f1;\n",
              "        }#T_256a2f54_95d3_11eb_9a88_0242ac1c0002row3_col15,#T_256a2f54_95d3_11eb_9a88_0242ac1c0002row4_col8,#T_256a2f54_95d3_11eb_9a88_0242ac1c0002row4_col9,#T_256a2f54_95d3_11eb_9a88_0242ac1c0002row4_col10,#T_256a2f54_95d3_11eb_9a88_0242ac1c0002row4_col11,#T_256a2f54_95d3_11eb_9a88_0242ac1c0002row4_col12,#T_256a2f54_95d3_11eb_9a88_0242ac1c0002row4_col13,#T_256a2f54_95d3_11eb_9a88_0242ac1c0002row4_col14,#T_256a2f54_95d3_11eb_9a88_0242ac1c0002row4_col15,#T_256a2f54_95d3_11eb_9a88_0242ac1c0002row4_col16,#T_256a2f54_95d3_11eb_9a88_0242ac1c0002row5_col6,#T_256a2f54_95d3_11eb_9a88_0242ac1c0002row5_col7,#T_256a2f54_95d3_11eb_9a88_0242ac1c0002row5_col15,#T_256a2f54_95d3_11eb_9a88_0242ac1c0002row6_col5,#T_256a2f54_95d3_11eb_9a88_0242ac1c0002row6_col6,#T_256a2f54_95d3_11eb_9a88_0242ac1c0002row6_col15,#T_256a2f54_95d3_11eb_9a88_0242ac1c0002row9_col14,#T_256a2f54_95d3_11eb_9a88_0242ac1c0002row11_col13,#T_256a2f54_95d3_11eb_9a88_0242ac1c0002row12_col13,#T_256a2f54_95d3_11eb_9a88_0242ac1c0002row13_col12,#T_256a2f54_95d3_11eb_9a88_0242ac1c0002row16_col10,#T_256a2f54_95d3_11eb_9a88_0242ac1c0002row17_col9{\n",
              "            font-size:  6pt;\n",
              "            background-color:  #000000;\n",
              "            color:  #f1f1f1;\n",
              "        }#T_256a2f54_95d3_11eb_9a88_0242ac1c0002row3_col16{\n",
              "            font-size:  6pt;\n",
              "            background-color:  #3a3a3a;\n",
              "            color:  #f1f1f1;\n",
              "        }#T_256a2f54_95d3_11eb_9a88_0242ac1c0002row4_col5{\n",
              "            font-size:  6pt;\n",
              "            background-color:  #f8f8f8;\n",
              "            color:  #000000;\n",
              "        }#T_256a2f54_95d3_11eb_9a88_0242ac1c0002row4_col6,#T_256a2f54_95d3_11eb_9a88_0242ac1c0002row14_col12{\n",
              "            font-size:  6pt;\n",
              "            background-color:  #777777;\n",
              "            color:  #000000;\n",
              "        }#T_256a2f54_95d3_11eb_9a88_0242ac1c0002row4_col7{\n",
              "            font-size:  6pt;\n",
              "            background-color:  #020202;\n",
              "            color:  #f1f1f1;\n",
              "        }#T_256a2f54_95d3_11eb_9a88_0242ac1c0002row5_col5{\n",
              "            font-size:  6pt;\n",
              "            background-color:  #676767;\n",
              "            color:  #f1f1f1;\n",
              "        }#T_256a2f54_95d3_11eb_9a88_0242ac1c0002row5_col8,#T_256a2f54_95d3_11eb_9a88_0242ac1c0002row8_col14{\n",
              "            font-size:  6pt;\n",
              "            background-color:  #060606;\n",
              "            color:  #f1f1f1;\n",
              "        }#T_256a2f54_95d3_11eb_9a88_0242ac1c0002row5_col9{\n",
              "            font-size:  6pt;\n",
              "            background-color:  #949494;\n",
              "            color:  #000000;\n",
              "        }#T_256a2f54_95d3_11eb_9a88_0242ac1c0002row5_col10,#T_256a2f54_95d3_11eb_9a88_0242ac1c0002row5_col12,#T_256a2f54_95d3_11eb_9a88_0242ac1c0002row5_col13{\n",
              "            font-size:  6pt;\n",
              "            background-color:  #b2b2b2;\n",
              "            color:  #000000;\n",
              "        }#T_256a2f54_95d3_11eb_9a88_0242ac1c0002row5_col11,#T_256a2f54_95d3_11eb_9a88_0242ac1c0002row13_col13{\n",
              "            font-size:  6pt;\n",
              "            background-color:  #b0b0b0;\n",
              "            color:  #000000;\n",
              "        }#T_256a2f54_95d3_11eb_9a88_0242ac1c0002row5_col14{\n",
              "            font-size:  6pt;\n",
              "            background-color:  #767676;\n",
              "            color:  #000000;\n",
              "        }#T_256a2f54_95d3_11eb_9a88_0242ac1c0002row5_col16,#T_256a2f54_95d3_11eb_9a88_0242ac1c0002row6_col16{\n",
              "            font-size:  6pt;\n",
              "            background-color:  #666666;\n",
              "            color:  #f1f1f1;\n",
              "        }#T_256a2f54_95d3_11eb_9a88_0242ac1c0002row6_col7,#T_256a2f54_95d3_11eb_9a88_0242ac1c0002row15_col10{\n",
              "            font-size:  6pt;\n",
              "            background-color:  #070707;\n",
              "            color:  #f1f1f1;\n",
              "        }#T_256a2f54_95d3_11eb_9a88_0242ac1c0002row6_col8{\n",
              "            font-size:  6pt;\n",
              "            background-color:  #bbbbbb;\n",
              "            color:  #000000;\n",
              "        }#T_256a2f54_95d3_11eb_9a88_0242ac1c0002row6_col14,#T_256a2f54_95d3_11eb_9a88_0242ac1c0002row9_col13{\n",
              "            font-size:  6pt;\n",
              "            background-color:  #737373;\n",
              "            color:  #000000;\n",
              "        }#T_256a2f54_95d3_11eb_9a88_0242ac1c0002row7_col5{\n",
              "            font-size:  6pt;\n",
              "            background-color:  #626262;\n",
              "            color:  #f1f1f1;\n",
              "        }#T_256a2f54_95d3_11eb_9a88_0242ac1c0002row7_col6{\n",
              "            font-size:  6pt;\n",
              "            background-color:  #484848;\n",
              "            color:  #f1f1f1;\n",
              "        }#T_256a2f54_95d3_11eb_9a88_0242ac1c0002row7_col7{\n",
              "            font-size:  6pt;\n",
              "            background-color:  #e4e4e4;\n",
              "            color:  #000000;\n",
              "        }#T_256a2f54_95d3_11eb_9a88_0242ac1c0002row7_col14{\n",
              "            font-size:  6pt;\n",
              "            background-color:  #1e1e1e;\n",
              "            color:  #f1f1f1;\n",
              "        }#T_256a2f54_95d3_11eb_9a88_0242ac1c0002row7_col15{\n",
              "            font-size:  6pt;\n",
              "            background-color:  #090909;\n",
              "            color:  #f1f1f1;\n",
              "        }#T_256a2f54_95d3_11eb_9a88_0242ac1c0002row7_col16{\n",
              "            font-size:  6pt;\n",
              "            background-color:  #dadada;\n",
              "            color:  #000000;\n",
              "        }#T_256a2f54_95d3_11eb_9a88_0242ac1c0002row8_col13{\n",
              "            font-size:  6pt;\n",
              "            background-color:  #bebebe;\n",
              "            color:  #000000;\n",
              "        }#T_256a2f54_95d3_11eb_9a88_0242ac1c0002row8_col15,#T_256a2f54_95d3_11eb_9a88_0242ac1c0002row11_col14{\n",
              "            font-size:  6pt;\n",
              "            background-color:  #8a8a8a;\n",
              "            color:  #000000;\n",
              "        }#T_256a2f54_95d3_11eb_9a88_0242ac1c0002row9_col15{\n",
              "            font-size:  6pt;\n",
              "            background-color:  #a7a7a7;\n",
              "            color:  #000000;\n",
              "        }#T_256a2f54_95d3_11eb_9a88_0242ac1c0002row10_col12{\n",
              "            font-size:  6pt;\n",
              "            background-color:  #ededed;\n",
              "            color:  #000000;\n",
              "        }#T_256a2f54_95d3_11eb_9a88_0242ac1c0002row10_col13{\n",
              "            font-size:  6pt;\n",
              "            background-color:  #0c0c0c;\n",
              "            color:  #f1f1f1;\n",
              "        }#T_256a2f54_95d3_11eb_9a88_0242ac1c0002row10_col14{\n",
              "            font-size:  6pt;\n",
              "            background-color:  #323232;\n",
              "            color:  #f1f1f1;\n",
              "        }#T_256a2f54_95d3_11eb_9a88_0242ac1c0002row10_col15{\n",
              "            font-size:  6pt;\n",
              "            background-color:  #fbfbfb;\n",
              "            color:  #000000;\n",
              "        }#T_256a2f54_95d3_11eb_9a88_0242ac1c0002row11_col12{\n",
              "            font-size:  6pt;\n",
              "            background-color:  #515151;\n",
              "            color:  #f1f1f1;\n",
              "        }#T_256a2f54_95d3_11eb_9a88_0242ac1c0002row12_col11{\n",
              "            font-size:  6pt;\n",
              "            background-color:  #c5c5c5;\n",
              "            color:  #000000;\n",
              "        }#T_256a2f54_95d3_11eb_9a88_0242ac1c0002row12_col12{\n",
              "            font-size:  6pt;\n",
              "            background-color:  #030303;\n",
              "            color:  #f1f1f1;\n",
              "        }#T_256a2f54_95d3_11eb_9a88_0242ac1c0002row12_col14,#T_256a2f54_95d3_11eb_9a88_0242ac1c0002row16_col8{\n",
              "            font-size:  6pt;\n",
              "            background-color:  #e1e1e1;\n",
              "            color:  #000000;\n",
              "        }#T_256a2f54_95d3_11eb_9a88_0242ac1c0002row13_col11,#T_256a2f54_95d3_11eb_9a88_0242ac1c0002row17_col8{\n",
              "            font-size:  6pt;\n",
              "            background-color:  #232323;\n",
              "            color:  #f1f1f1;\n",
              "        }#T_256a2f54_95d3_11eb_9a88_0242ac1c0002row14_col10{\n",
              "            font-size:  6pt;\n",
              "            background-color:  #888888;\n",
              "            color:  #000000;\n",
              "        }#T_256a2f54_95d3_11eb_9a88_0242ac1c0002row14_col11,#T_256a2f54_95d3_11eb_9a88_0242ac1c0002row15_col11{\n",
              "            font-size:  6pt;\n",
              "            background-color:  #010101;\n",
              "            color:  #f1f1f1;\n",
              "        }#T_256a2f54_95d3_11eb_9a88_0242ac1c0002row14_col13{\n",
              "            font-size:  6pt;\n",
              "            background-color:  #fafafa;\n",
              "            color:  #000000;\n",
              "        }#T_256a2f54_95d3_11eb_9a88_0242ac1c0002row15_col9{\n",
              "            font-size:  6pt;\n",
              "            background-color:  #a9a9a9;\n",
              "            color:  #000000;\n",
              "        }#T_256a2f54_95d3_11eb_9a88_0242ac1c0002row15_col12{\n",
              "            font-size:  6pt;\n",
              "            background-color:  #cfcfcf;\n",
              "            color:  #000000;\n",
              "        }#T_256a2f54_95d3_11eb_9a88_0242ac1c0002row16_col9{\n",
              "            font-size:  6pt;\n",
              "            background-color:  #080808;\n",
              "            color:  #f1f1f1;\n",
              "        }#T_256a2f54_95d3_11eb_9a88_0242ac1c0002row16_col11{\n",
              "            font-size:  6pt;\n",
              "            background-color:  #8e8e8e;\n",
              "            color:  #000000;\n",
              "        }#T_256a2f54_95d3_11eb_9a88_0242ac1c0002row17_col7{\n",
              "            font-size:  6pt;\n",
              "            background-color:  #f1f1f1;\n",
              "            color:  #000000;\n",
              "        }#T_256a2f54_95d3_11eb_9a88_0242ac1c0002row17_col10{\n",
              "            font-size:  6pt;\n",
              "            background-color:  #6f6f6f;\n",
              "            color:  #000000;\n",
              "        }#T_256a2f54_95d3_11eb_9a88_0242ac1c0002row17_col11{\n",
              "            font-size:  6pt;\n",
              "            background-color:  #f9f9f9;\n",
              "            color:  #000000;\n",
              "        }</style><table id=\"T_256a2f54_95d3_11eb_9a88_0242ac1c0002\" ><thead>    <tr>        <th class=\"blank level0\" ></th>        <th class=\"col_heading level0 col0\" >0</th>        <th class=\"col_heading level0 col1\" >1</th>        <th class=\"col_heading level0 col2\" >2</th>        <th class=\"col_heading level0 col3\" >3</th>        <th class=\"col_heading level0 col4\" >4</th>        <th class=\"col_heading level0 col5\" >5</th>        <th class=\"col_heading level0 col6\" >6</th>        <th class=\"col_heading level0 col7\" >7</th>        <th class=\"col_heading level0 col8\" >8</th>        <th class=\"col_heading level0 col9\" >9</th>        <th class=\"col_heading level0 col10\" >10</th>        <th class=\"col_heading level0 col11\" >11</th>        <th class=\"col_heading level0 col12\" >12</th>        <th class=\"col_heading level0 col13\" >13</th>        <th class=\"col_heading level0 col14\" >14</th>        <th class=\"col_heading level0 col15\" >15</th>        <th class=\"col_heading level0 col16\" >16</th>        <th class=\"col_heading level0 col17\" >17</th>    </tr></thead><tbody>\n",
              "                <tr>\n",
              "                        <th id=\"T_256a2f54_95d3_11eb_9a88_0242ac1c0002level0_row0\" class=\"row_heading level0 row0\" >0</th>\n",
              "                        <td id=\"T_256a2f54_95d3_11eb_9a88_0242ac1c0002row0_col0\" class=\"data row0 col0\" >0</td>\n",
              "                        <td id=\"T_256a2f54_95d3_11eb_9a88_0242ac1c0002row0_col1\" class=\"data row0 col1\" >0</td>\n",
              "                        <td id=\"T_256a2f54_95d3_11eb_9a88_0242ac1c0002row0_col2\" class=\"data row0 col2\" >0</td>\n",
              "                        <td id=\"T_256a2f54_95d3_11eb_9a88_0242ac1c0002row0_col3\" class=\"data row0 col3\" >0</td>\n",
              "                        <td id=\"T_256a2f54_95d3_11eb_9a88_0242ac1c0002row0_col4\" class=\"data row0 col4\" >0</td>\n",
              "                        <td id=\"T_256a2f54_95d3_11eb_9a88_0242ac1c0002row0_col5\" class=\"data row0 col5\" >0</td>\n",
              "                        <td id=\"T_256a2f54_95d3_11eb_9a88_0242ac1c0002row0_col6\" class=\"data row0 col6\" >0</td>\n",
              "                        <td id=\"T_256a2f54_95d3_11eb_9a88_0242ac1c0002row0_col7\" class=\"data row0 col7\" >0</td>\n",
              "                        <td id=\"T_256a2f54_95d3_11eb_9a88_0242ac1c0002row0_col8\" class=\"data row0 col8\" >0</td>\n",
              "                        <td id=\"T_256a2f54_95d3_11eb_9a88_0242ac1c0002row0_col9\" class=\"data row0 col9\" >0</td>\n",
              "                        <td id=\"T_256a2f54_95d3_11eb_9a88_0242ac1c0002row0_col10\" class=\"data row0 col10\" >0</td>\n",
              "                        <td id=\"T_256a2f54_95d3_11eb_9a88_0242ac1c0002row0_col11\" class=\"data row0 col11\" >0</td>\n",
              "                        <td id=\"T_256a2f54_95d3_11eb_9a88_0242ac1c0002row0_col12\" class=\"data row0 col12\" >0</td>\n",
              "                        <td id=\"T_256a2f54_95d3_11eb_9a88_0242ac1c0002row0_col13\" class=\"data row0 col13\" >0</td>\n",
              "                        <td id=\"T_256a2f54_95d3_11eb_9a88_0242ac1c0002row0_col14\" class=\"data row0 col14\" >0</td>\n",
              "                        <td id=\"T_256a2f54_95d3_11eb_9a88_0242ac1c0002row0_col15\" class=\"data row0 col15\" >0</td>\n",
              "                        <td id=\"T_256a2f54_95d3_11eb_9a88_0242ac1c0002row0_col16\" class=\"data row0 col16\" >0</td>\n",
              "                        <td id=\"T_256a2f54_95d3_11eb_9a88_0242ac1c0002row0_col17\" class=\"data row0 col17\" >0</td>\n",
              "            </tr>\n",
              "            <tr>\n",
              "                        <th id=\"T_256a2f54_95d3_11eb_9a88_0242ac1c0002level0_row1\" class=\"row_heading level0 row1\" >1</th>\n",
              "                        <td id=\"T_256a2f54_95d3_11eb_9a88_0242ac1c0002row1_col0\" class=\"data row1 col0\" >0</td>\n",
              "                        <td id=\"T_256a2f54_95d3_11eb_9a88_0242ac1c0002row1_col1\" class=\"data row1 col1\" >0</td>\n",
              "                        <td id=\"T_256a2f54_95d3_11eb_9a88_0242ac1c0002row1_col2\" class=\"data row1 col2\" >0</td>\n",
              "                        <td id=\"T_256a2f54_95d3_11eb_9a88_0242ac1c0002row1_col3\" class=\"data row1 col3\" >0</td>\n",
              "                        <td id=\"T_256a2f54_95d3_11eb_9a88_0242ac1c0002row1_col4\" class=\"data row1 col4\" >0</td>\n",
              "                        <td id=\"T_256a2f54_95d3_11eb_9a88_0242ac1c0002row1_col5\" class=\"data row1 col5\" >0</td>\n",
              "                        <td id=\"T_256a2f54_95d3_11eb_9a88_0242ac1c0002row1_col6\" class=\"data row1 col6\" >0</td>\n",
              "                        <td id=\"T_256a2f54_95d3_11eb_9a88_0242ac1c0002row1_col7\" class=\"data row1 col7\" >0</td>\n",
              "                        <td id=\"T_256a2f54_95d3_11eb_9a88_0242ac1c0002row1_col8\" class=\"data row1 col8\" >0</td>\n",
              "                        <td id=\"T_256a2f54_95d3_11eb_9a88_0242ac1c0002row1_col9\" class=\"data row1 col9\" >0</td>\n",
              "                        <td id=\"T_256a2f54_95d3_11eb_9a88_0242ac1c0002row1_col10\" class=\"data row1 col10\" >0</td>\n",
              "                        <td id=\"T_256a2f54_95d3_11eb_9a88_0242ac1c0002row1_col11\" class=\"data row1 col11\" >0</td>\n",
              "                        <td id=\"T_256a2f54_95d3_11eb_9a88_0242ac1c0002row1_col12\" class=\"data row1 col12\" >0</td>\n",
              "                        <td id=\"T_256a2f54_95d3_11eb_9a88_0242ac1c0002row1_col13\" class=\"data row1 col13\" >0</td>\n",
              "                        <td id=\"T_256a2f54_95d3_11eb_9a88_0242ac1c0002row1_col14\" class=\"data row1 col14\" >0</td>\n",
              "                        <td id=\"T_256a2f54_95d3_11eb_9a88_0242ac1c0002row1_col15\" class=\"data row1 col15\" >0</td>\n",
              "                        <td id=\"T_256a2f54_95d3_11eb_9a88_0242ac1c0002row1_col16\" class=\"data row1 col16\" >0</td>\n",
              "                        <td id=\"T_256a2f54_95d3_11eb_9a88_0242ac1c0002row1_col17\" class=\"data row1 col17\" >0</td>\n",
              "            </tr>\n",
              "            <tr>\n",
              "                        <th id=\"T_256a2f54_95d3_11eb_9a88_0242ac1c0002level0_row2\" class=\"row_heading level0 row2\" >2</th>\n",
              "                        <td id=\"T_256a2f54_95d3_11eb_9a88_0242ac1c0002row2_col0\" class=\"data row2 col0\" >0</td>\n",
              "                        <td id=\"T_256a2f54_95d3_11eb_9a88_0242ac1c0002row2_col1\" class=\"data row2 col1\" >0</td>\n",
              "                        <td id=\"T_256a2f54_95d3_11eb_9a88_0242ac1c0002row2_col2\" class=\"data row2 col2\" >0</td>\n",
              "                        <td id=\"T_256a2f54_95d3_11eb_9a88_0242ac1c0002row2_col3\" class=\"data row2 col3\" >0</td>\n",
              "                        <td id=\"T_256a2f54_95d3_11eb_9a88_0242ac1c0002row2_col4\" class=\"data row2 col4\" >0</td>\n",
              "                        <td id=\"T_256a2f54_95d3_11eb_9a88_0242ac1c0002row2_col5\" class=\"data row2 col5\" >0</td>\n",
              "                        <td id=\"T_256a2f54_95d3_11eb_9a88_0242ac1c0002row2_col6\" class=\"data row2 col6\" >0</td>\n",
              "                        <td id=\"T_256a2f54_95d3_11eb_9a88_0242ac1c0002row2_col7\" class=\"data row2 col7\" >0</td>\n",
              "                        <td id=\"T_256a2f54_95d3_11eb_9a88_0242ac1c0002row2_col8\" class=\"data row2 col8\" >0</td>\n",
              "                        <td id=\"T_256a2f54_95d3_11eb_9a88_0242ac1c0002row2_col9\" class=\"data row2 col9\" >0</td>\n",
              "                        <td id=\"T_256a2f54_95d3_11eb_9a88_0242ac1c0002row2_col10\" class=\"data row2 col10\" >0</td>\n",
              "                        <td id=\"T_256a2f54_95d3_11eb_9a88_0242ac1c0002row2_col11\" class=\"data row2 col11\" >0</td>\n",
              "                        <td id=\"T_256a2f54_95d3_11eb_9a88_0242ac1c0002row2_col12\" class=\"data row2 col12\" >0</td>\n",
              "                        <td id=\"T_256a2f54_95d3_11eb_9a88_0242ac1c0002row2_col13\" class=\"data row2 col13\" >0</td>\n",
              "                        <td id=\"T_256a2f54_95d3_11eb_9a88_0242ac1c0002row2_col14\" class=\"data row2 col14\" >0</td>\n",
              "                        <td id=\"T_256a2f54_95d3_11eb_9a88_0242ac1c0002row2_col15\" class=\"data row2 col15\" >0</td>\n",
              "                        <td id=\"T_256a2f54_95d3_11eb_9a88_0242ac1c0002row2_col16\" class=\"data row2 col16\" >0</td>\n",
              "                        <td id=\"T_256a2f54_95d3_11eb_9a88_0242ac1c0002row2_col17\" class=\"data row2 col17\" >0</td>\n",
              "            </tr>\n",
              "            <tr>\n",
              "                        <th id=\"T_256a2f54_95d3_11eb_9a88_0242ac1c0002level0_row3\" class=\"row_heading level0 row3\" >3</th>\n",
              "                        <td id=\"T_256a2f54_95d3_11eb_9a88_0242ac1c0002row3_col0\" class=\"data row3 col0\" >0</td>\n",
              "                        <td id=\"T_256a2f54_95d3_11eb_9a88_0242ac1c0002row3_col1\" class=\"data row3 col1\" >0</td>\n",
              "                        <td id=\"T_256a2f54_95d3_11eb_9a88_0242ac1c0002row3_col2\" class=\"data row3 col2\" >0</td>\n",
              "                        <td id=\"T_256a2f54_95d3_11eb_9a88_0242ac1c0002row3_col3\" class=\"data row3 col3\" >0</td>\n",
              "                        <td id=\"T_256a2f54_95d3_11eb_9a88_0242ac1c0002row3_col4\" class=\"data row3 col4\" >0</td>\n",
              "                        <td id=\"T_256a2f54_95d3_11eb_9a88_0242ac1c0002row3_col5\" class=\"data row3 col5\" >0</td>\n",
              "                        <td id=\"T_256a2f54_95d3_11eb_9a88_0242ac1c0002row3_col6\" class=\"data row3 col6\" >0</td>\n",
              "                        <td id=\"T_256a2f54_95d3_11eb_9a88_0242ac1c0002row3_col7\" class=\"data row3 col7\" >73</td>\n",
              "                        <td id=\"T_256a2f54_95d3_11eb_9a88_0242ac1c0002row3_col8\" class=\"data row3 col8\" >167</td>\n",
              "                        <td id=\"T_256a2f54_95d3_11eb_9a88_0242ac1c0002row3_col9\" class=\"data row3 col9\" >167</td>\n",
              "                        <td id=\"T_256a2f54_95d3_11eb_9a88_0242ac1c0002row3_col10\" class=\"data row3 col10\" >107</td>\n",
              "                        <td id=\"T_256a2f54_95d3_11eb_9a88_0242ac1c0002row3_col11\" class=\"data row3 col11\" >80</td>\n",
              "                        <td id=\"T_256a2f54_95d3_11eb_9a88_0242ac1c0002row3_col12\" class=\"data row3 col12\" >80</td>\n",
              "                        <td id=\"T_256a2f54_95d3_11eb_9a88_0242ac1c0002row3_col13\" class=\"data row3 col13\" >101</td>\n",
              "                        <td id=\"T_256a2f54_95d3_11eb_9a88_0242ac1c0002row3_col14\" class=\"data row3 col14\" >215</td>\n",
              "                        <td id=\"T_256a2f54_95d3_11eb_9a88_0242ac1c0002row3_col15\" class=\"data row3 col15\" >254</td>\n",
              "                        <td id=\"T_256a2f54_95d3_11eb_9a88_0242ac1c0002row3_col16\" class=\"data row3 col16\" >158</td>\n",
              "                        <td id=\"T_256a2f54_95d3_11eb_9a88_0242ac1c0002row3_col17\" class=\"data row3 col17\" >0</td>\n",
              "            </tr>\n",
              "            <tr>\n",
              "                        <th id=\"T_256a2f54_95d3_11eb_9a88_0242ac1c0002level0_row4\" class=\"row_heading level0 row4\" >4</th>\n",
              "                        <td id=\"T_256a2f54_95d3_11eb_9a88_0242ac1c0002row4_col0\" class=\"data row4 col0\" >0</td>\n",
              "                        <td id=\"T_256a2f54_95d3_11eb_9a88_0242ac1c0002row4_col1\" class=\"data row4 col1\" >0</td>\n",
              "                        <td id=\"T_256a2f54_95d3_11eb_9a88_0242ac1c0002row4_col2\" class=\"data row4 col2\" >0</td>\n",
              "                        <td id=\"T_256a2f54_95d3_11eb_9a88_0242ac1c0002row4_col3\" class=\"data row4 col3\" >0</td>\n",
              "                        <td id=\"T_256a2f54_95d3_11eb_9a88_0242ac1c0002row4_col4\" class=\"data row4 col4\" >0</td>\n",
              "                        <td id=\"T_256a2f54_95d3_11eb_9a88_0242ac1c0002row4_col5\" class=\"data row4 col5\" >13</td>\n",
              "                        <td id=\"T_256a2f54_95d3_11eb_9a88_0242ac1c0002row4_col6\" class=\"data row4 col6\" >155</td>\n",
              "                        <td id=\"T_256a2f54_95d3_11eb_9a88_0242ac1c0002row4_col7\" class=\"data row4 col7\" >252</td>\n",
              "                        <td id=\"T_256a2f54_95d3_11eb_9a88_0242ac1c0002row4_col8\" class=\"data row4 col8\" >254</td>\n",
              "                        <td id=\"T_256a2f54_95d3_11eb_9a88_0242ac1c0002row4_col9\" class=\"data row4 col9\" >254</td>\n",
              "                        <td id=\"T_256a2f54_95d3_11eb_9a88_0242ac1c0002row4_col10\" class=\"data row4 col10\" >254</td>\n",
              "                        <td id=\"T_256a2f54_95d3_11eb_9a88_0242ac1c0002row4_col11\" class=\"data row4 col11\" >255</td>\n",
              "                        <td id=\"T_256a2f54_95d3_11eb_9a88_0242ac1c0002row4_col12\" class=\"data row4 col12\" >254</td>\n",
              "                        <td id=\"T_256a2f54_95d3_11eb_9a88_0242ac1c0002row4_col13\" class=\"data row4 col13\" >254</td>\n",
              "                        <td id=\"T_256a2f54_95d3_11eb_9a88_0242ac1c0002row4_col14\" class=\"data row4 col14\" >254</td>\n",
              "                        <td id=\"T_256a2f54_95d3_11eb_9a88_0242ac1c0002row4_col15\" class=\"data row4 col15\" >254</td>\n",
              "                        <td id=\"T_256a2f54_95d3_11eb_9a88_0242ac1c0002row4_col16\" class=\"data row4 col16\" >194</td>\n",
              "                        <td id=\"T_256a2f54_95d3_11eb_9a88_0242ac1c0002row4_col17\" class=\"data row4 col17\" >0</td>\n",
              "            </tr>\n",
              "            <tr>\n",
              "                        <th id=\"T_256a2f54_95d3_11eb_9a88_0242ac1c0002level0_row5\" class=\"row_heading level0 row5\" >5</th>\n",
              "                        <td id=\"T_256a2f54_95d3_11eb_9a88_0242ac1c0002row5_col0\" class=\"data row5 col0\" >0</td>\n",
              "                        <td id=\"T_256a2f54_95d3_11eb_9a88_0242ac1c0002row5_col1\" class=\"data row5 col1\" >0</td>\n",
              "                        <td id=\"T_256a2f54_95d3_11eb_9a88_0242ac1c0002row5_col2\" class=\"data row5 col2\" >0</td>\n",
              "                        <td id=\"T_256a2f54_95d3_11eb_9a88_0242ac1c0002row5_col3\" class=\"data row5 col3\" >0</td>\n",
              "                        <td id=\"T_256a2f54_95d3_11eb_9a88_0242ac1c0002row5_col4\" class=\"data row5 col4\" >0</td>\n",
              "                        <td id=\"T_256a2f54_95d3_11eb_9a88_0242ac1c0002row5_col5\" class=\"data row5 col5\" >147</td>\n",
              "                        <td id=\"T_256a2f54_95d3_11eb_9a88_0242ac1c0002row5_col6\" class=\"data row5 col6\" >254</td>\n",
              "                        <td id=\"T_256a2f54_95d3_11eb_9a88_0242ac1c0002row5_col7\" class=\"data row5 col7\" >254</td>\n",
              "                        <td id=\"T_256a2f54_95d3_11eb_9a88_0242ac1c0002row5_col8\" class=\"data row5 col8\" >249</td>\n",
              "                        <td id=\"T_256a2f54_95d3_11eb_9a88_0242ac1c0002row5_col9\" class=\"data row5 col9\" >128</td>\n",
              "                        <td id=\"T_256a2f54_95d3_11eb_9a88_0242ac1c0002row5_col10\" class=\"data row5 col10\" >105</td>\n",
              "                        <td id=\"T_256a2f54_95d3_11eb_9a88_0242ac1c0002row5_col11\" class=\"data row5 col11\" >106</td>\n",
              "                        <td id=\"T_256a2f54_95d3_11eb_9a88_0242ac1c0002row5_col12\" class=\"data row5 col12\" >105</td>\n",
              "                        <td id=\"T_256a2f54_95d3_11eb_9a88_0242ac1c0002row5_col13\" class=\"data row5 col13\" >105</td>\n",
              "                        <td id=\"T_256a2f54_95d3_11eb_9a88_0242ac1c0002row5_col14\" class=\"data row5 col14\" >156</td>\n",
              "                        <td id=\"T_256a2f54_95d3_11eb_9a88_0242ac1c0002row5_col15\" class=\"data row5 col15\" >254</td>\n",
              "                        <td id=\"T_256a2f54_95d3_11eb_9a88_0242ac1c0002row5_col16\" class=\"data row5 col16\" >131</td>\n",
              "                        <td id=\"T_256a2f54_95d3_11eb_9a88_0242ac1c0002row5_col17\" class=\"data row5 col17\" >0</td>\n",
              "            </tr>\n",
              "            <tr>\n",
              "                        <th id=\"T_256a2f54_95d3_11eb_9a88_0242ac1c0002level0_row6\" class=\"row_heading level0 row6\" >6</th>\n",
              "                        <td id=\"T_256a2f54_95d3_11eb_9a88_0242ac1c0002row6_col0\" class=\"data row6 col0\" >0</td>\n",
              "                        <td id=\"T_256a2f54_95d3_11eb_9a88_0242ac1c0002row6_col1\" class=\"data row6 col1\" >0</td>\n",
              "                        <td id=\"T_256a2f54_95d3_11eb_9a88_0242ac1c0002row6_col2\" class=\"data row6 col2\" >0</td>\n",
              "                        <td id=\"T_256a2f54_95d3_11eb_9a88_0242ac1c0002row6_col3\" class=\"data row6 col3\" >0</td>\n",
              "                        <td id=\"T_256a2f54_95d3_11eb_9a88_0242ac1c0002row6_col4\" class=\"data row6 col4\" >0</td>\n",
              "                        <td id=\"T_256a2f54_95d3_11eb_9a88_0242ac1c0002row6_col5\" class=\"data row6 col5\" >219</td>\n",
              "                        <td id=\"T_256a2f54_95d3_11eb_9a88_0242ac1c0002row6_col6\" class=\"data row6 col6\" >254</td>\n",
              "                        <td id=\"T_256a2f54_95d3_11eb_9a88_0242ac1c0002row6_col7\" class=\"data row6 col7\" >248</td>\n",
              "                        <td id=\"T_256a2f54_95d3_11eb_9a88_0242ac1c0002row6_col8\" class=\"data row6 col8\" >97</td>\n",
              "                        <td id=\"T_256a2f54_95d3_11eb_9a88_0242ac1c0002row6_col9\" class=\"data row6 col9\" >0</td>\n",
              "                        <td id=\"T_256a2f54_95d3_11eb_9a88_0242ac1c0002row6_col10\" class=\"data row6 col10\" >0</td>\n",
              "                        <td id=\"T_256a2f54_95d3_11eb_9a88_0242ac1c0002row6_col11\" class=\"data row6 col11\" >0</td>\n",
              "                        <td id=\"T_256a2f54_95d3_11eb_9a88_0242ac1c0002row6_col12\" class=\"data row6 col12\" >0</td>\n",
              "                        <td id=\"T_256a2f54_95d3_11eb_9a88_0242ac1c0002row6_col13\" class=\"data row6 col13\" >0</td>\n",
              "                        <td id=\"T_256a2f54_95d3_11eb_9a88_0242ac1c0002row6_col14\" class=\"data row6 col14\" >158</td>\n",
              "                        <td id=\"T_256a2f54_95d3_11eb_9a88_0242ac1c0002row6_col15\" class=\"data row6 col15\" >254</td>\n",
              "                        <td id=\"T_256a2f54_95d3_11eb_9a88_0242ac1c0002row6_col16\" class=\"data row6 col16\" >131</td>\n",
              "                        <td id=\"T_256a2f54_95d3_11eb_9a88_0242ac1c0002row6_col17\" class=\"data row6 col17\" >0</td>\n",
              "            </tr>\n",
              "            <tr>\n",
              "                        <th id=\"T_256a2f54_95d3_11eb_9a88_0242ac1c0002level0_row7\" class=\"row_heading level0 row7\" >7</th>\n",
              "                        <td id=\"T_256a2f54_95d3_11eb_9a88_0242ac1c0002row7_col0\" class=\"data row7 col0\" >0</td>\n",
              "                        <td id=\"T_256a2f54_95d3_11eb_9a88_0242ac1c0002row7_col1\" class=\"data row7 col1\" >0</td>\n",
              "                        <td id=\"T_256a2f54_95d3_11eb_9a88_0242ac1c0002row7_col2\" class=\"data row7 col2\" >0</td>\n",
              "                        <td id=\"T_256a2f54_95d3_11eb_9a88_0242ac1c0002row7_col3\" class=\"data row7 col3\" >0</td>\n",
              "                        <td id=\"T_256a2f54_95d3_11eb_9a88_0242ac1c0002row7_col4\" class=\"data row7 col4\" >0</td>\n",
              "                        <td id=\"T_256a2f54_95d3_11eb_9a88_0242ac1c0002row7_col5\" class=\"data row7 col5\" >151</td>\n",
              "                        <td id=\"T_256a2f54_95d3_11eb_9a88_0242ac1c0002row7_col6\" class=\"data row7 col6\" >197</td>\n",
              "                        <td id=\"T_256a2f54_95d3_11eb_9a88_0242ac1c0002row7_col7\" class=\"data row7 col7\" >49</td>\n",
              "                        <td id=\"T_256a2f54_95d3_11eb_9a88_0242ac1c0002row7_col8\" class=\"data row7 col8\" >0</td>\n",
              "                        <td id=\"T_256a2f54_95d3_11eb_9a88_0242ac1c0002row7_col9\" class=\"data row7 col9\" >0</td>\n",
              "                        <td id=\"T_256a2f54_95d3_11eb_9a88_0242ac1c0002row7_col10\" class=\"data row7 col10\" >0</td>\n",
              "                        <td id=\"T_256a2f54_95d3_11eb_9a88_0242ac1c0002row7_col11\" class=\"data row7 col11\" >0</td>\n",
              "                        <td id=\"T_256a2f54_95d3_11eb_9a88_0242ac1c0002row7_col12\" class=\"data row7 col12\" >0</td>\n",
              "                        <td id=\"T_256a2f54_95d3_11eb_9a88_0242ac1c0002row7_col13\" class=\"data row7 col13\" >0</td>\n",
              "                        <td id=\"T_256a2f54_95d3_11eb_9a88_0242ac1c0002row7_col14\" class=\"data row7 col14\" >228</td>\n",
              "                        <td id=\"T_256a2f54_95d3_11eb_9a88_0242ac1c0002row7_col15\" class=\"data row7 col15\" >246</td>\n",
              "                        <td id=\"T_256a2f54_95d3_11eb_9a88_0242ac1c0002row7_col16\" class=\"data row7 col16\" >48</td>\n",
              "                        <td id=\"T_256a2f54_95d3_11eb_9a88_0242ac1c0002row7_col17\" class=\"data row7 col17\" >0</td>\n",
              "            </tr>\n",
              "            <tr>\n",
              "                        <th id=\"T_256a2f54_95d3_11eb_9a88_0242ac1c0002level0_row8\" class=\"row_heading level0 row8\" >8</th>\n",
              "                        <td id=\"T_256a2f54_95d3_11eb_9a88_0242ac1c0002row8_col0\" class=\"data row8 col0\" >0</td>\n",
              "                        <td id=\"T_256a2f54_95d3_11eb_9a88_0242ac1c0002row8_col1\" class=\"data row8 col1\" >0</td>\n",
              "                        <td id=\"T_256a2f54_95d3_11eb_9a88_0242ac1c0002row8_col2\" class=\"data row8 col2\" >0</td>\n",
              "                        <td id=\"T_256a2f54_95d3_11eb_9a88_0242ac1c0002row8_col3\" class=\"data row8 col3\" >0</td>\n",
              "                        <td id=\"T_256a2f54_95d3_11eb_9a88_0242ac1c0002row8_col4\" class=\"data row8 col4\" >0</td>\n",
              "                        <td id=\"T_256a2f54_95d3_11eb_9a88_0242ac1c0002row8_col5\" class=\"data row8 col5\" >0</td>\n",
              "                        <td id=\"T_256a2f54_95d3_11eb_9a88_0242ac1c0002row8_col6\" class=\"data row8 col6\" >0</td>\n",
              "                        <td id=\"T_256a2f54_95d3_11eb_9a88_0242ac1c0002row8_col7\" class=\"data row8 col7\" >0</td>\n",
              "                        <td id=\"T_256a2f54_95d3_11eb_9a88_0242ac1c0002row8_col8\" class=\"data row8 col8\" >0</td>\n",
              "                        <td id=\"T_256a2f54_95d3_11eb_9a88_0242ac1c0002row8_col9\" class=\"data row8 col9\" >0</td>\n",
              "                        <td id=\"T_256a2f54_95d3_11eb_9a88_0242ac1c0002row8_col10\" class=\"data row8 col10\" >0</td>\n",
              "                        <td id=\"T_256a2f54_95d3_11eb_9a88_0242ac1c0002row8_col11\" class=\"data row8 col11\" >0</td>\n",
              "                        <td id=\"T_256a2f54_95d3_11eb_9a88_0242ac1c0002row8_col12\" class=\"data row8 col12\" >0</td>\n",
              "                        <td id=\"T_256a2f54_95d3_11eb_9a88_0242ac1c0002row8_col13\" class=\"data row8 col13\" >94</td>\n",
              "                        <td id=\"T_256a2f54_95d3_11eb_9a88_0242ac1c0002row8_col14\" class=\"data row8 col14\" >249</td>\n",
              "                        <td id=\"T_256a2f54_95d3_11eb_9a88_0242ac1c0002row8_col15\" class=\"data row8 col15\" >137</td>\n",
              "                        <td id=\"T_256a2f54_95d3_11eb_9a88_0242ac1c0002row8_col16\" class=\"data row8 col16\" >0</td>\n",
              "                        <td id=\"T_256a2f54_95d3_11eb_9a88_0242ac1c0002row8_col17\" class=\"data row8 col17\" >0</td>\n",
              "            </tr>\n",
              "            <tr>\n",
              "                        <th id=\"T_256a2f54_95d3_11eb_9a88_0242ac1c0002level0_row9\" class=\"row_heading level0 row9\" >9</th>\n",
              "                        <td id=\"T_256a2f54_95d3_11eb_9a88_0242ac1c0002row9_col0\" class=\"data row9 col0\" >0</td>\n",
              "                        <td id=\"T_256a2f54_95d3_11eb_9a88_0242ac1c0002row9_col1\" class=\"data row9 col1\" >0</td>\n",
              "                        <td id=\"T_256a2f54_95d3_11eb_9a88_0242ac1c0002row9_col2\" class=\"data row9 col2\" >0</td>\n",
              "                        <td id=\"T_256a2f54_95d3_11eb_9a88_0242ac1c0002row9_col3\" class=\"data row9 col3\" >0</td>\n",
              "                        <td id=\"T_256a2f54_95d3_11eb_9a88_0242ac1c0002row9_col4\" class=\"data row9 col4\" >0</td>\n",
              "                        <td id=\"T_256a2f54_95d3_11eb_9a88_0242ac1c0002row9_col5\" class=\"data row9 col5\" >0</td>\n",
              "                        <td id=\"T_256a2f54_95d3_11eb_9a88_0242ac1c0002row9_col6\" class=\"data row9 col6\" >0</td>\n",
              "                        <td id=\"T_256a2f54_95d3_11eb_9a88_0242ac1c0002row9_col7\" class=\"data row9 col7\" >0</td>\n",
              "                        <td id=\"T_256a2f54_95d3_11eb_9a88_0242ac1c0002row9_col8\" class=\"data row9 col8\" >0</td>\n",
              "                        <td id=\"T_256a2f54_95d3_11eb_9a88_0242ac1c0002row9_col9\" class=\"data row9 col9\" >0</td>\n",
              "                        <td id=\"T_256a2f54_95d3_11eb_9a88_0242ac1c0002row9_col10\" class=\"data row9 col10\" >0</td>\n",
              "                        <td id=\"T_256a2f54_95d3_11eb_9a88_0242ac1c0002row9_col11\" class=\"data row9 col11\" >0</td>\n",
              "                        <td id=\"T_256a2f54_95d3_11eb_9a88_0242ac1c0002row9_col12\" class=\"data row9 col12\" >0</td>\n",
              "                        <td id=\"T_256a2f54_95d3_11eb_9a88_0242ac1c0002row9_col13\" class=\"data row9 col13\" >158</td>\n",
              "                        <td id=\"T_256a2f54_95d3_11eb_9a88_0242ac1c0002row9_col14\" class=\"data row9 col14\" >254</td>\n",
              "                        <td id=\"T_256a2f54_95d3_11eb_9a88_0242ac1c0002row9_col15\" class=\"data row9 col15\" >114</td>\n",
              "                        <td id=\"T_256a2f54_95d3_11eb_9a88_0242ac1c0002row9_col16\" class=\"data row9 col16\" >0</td>\n",
              "                        <td id=\"T_256a2f54_95d3_11eb_9a88_0242ac1c0002row9_col17\" class=\"data row9 col17\" >0</td>\n",
              "            </tr>\n",
              "            <tr>\n",
              "                        <th id=\"T_256a2f54_95d3_11eb_9a88_0242ac1c0002level0_row10\" class=\"row_heading level0 row10\" >10</th>\n",
              "                        <td id=\"T_256a2f54_95d3_11eb_9a88_0242ac1c0002row10_col0\" class=\"data row10 col0\" >0</td>\n",
              "                        <td id=\"T_256a2f54_95d3_11eb_9a88_0242ac1c0002row10_col1\" class=\"data row10 col1\" >0</td>\n",
              "                        <td id=\"T_256a2f54_95d3_11eb_9a88_0242ac1c0002row10_col2\" class=\"data row10 col2\" >0</td>\n",
              "                        <td id=\"T_256a2f54_95d3_11eb_9a88_0242ac1c0002row10_col3\" class=\"data row10 col3\" >0</td>\n",
              "                        <td id=\"T_256a2f54_95d3_11eb_9a88_0242ac1c0002row10_col4\" class=\"data row10 col4\" >0</td>\n",
              "                        <td id=\"T_256a2f54_95d3_11eb_9a88_0242ac1c0002row10_col5\" class=\"data row10 col5\" >0</td>\n",
              "                        <td id=\"T_256a2f54_95d3_11eb_9a88_0242ac1c0002row10_col6\" class=\"data row10 col6\" >0</td>\n",
              "                        <td id=\"T_256a2f54_95d3_11eb_9a88_0242ac1c0002row10_col7\" class=\"data row10 col7\" >0</td>\n",
              "                        <td id=\"T_256a2f54_95d3_11eb_9a88_0242ac1c0002row10_col8\" class=\"data row10 col8\" >0</td>\n",
              "                        <td id=\"T_256a2f54_95d3_11eb_9a88_0242ac1c0002row10_col9\" class=\"data row10 col9\" >0</td>\n",
              "                        <td id=\"T_256a2f54_95d3_11eb_9a88_0242ac1c0002row10_col10\" class=\"data row10 col10\" >0</td>\n",
              "                        <td id=\"T_256a2f54_95d3_11eb_9a88_0242ac1c0002row10_col11\" class=\"data row10 col11\" >0</td>\n",
              "                        <td id=\"T_256a2f54_95d3_11eb_9a88_0242ac1c0002row10_col12\" class=\"data row10 col12\" >36</td>\n",
              "                        <td id=\"T_256a2f54_95d3_11eb_9a88_0242ac1c0002row10_col13\" class=\"data row10 col13\" >244</td>\n",
              "                        <td id=\"T_256a2f54_95d3_11eb_9a88_0242ac1c0002row10_col14\" class=\"data row10 col14\" >213</td>\n",
              "                        <td id=\"T_256a2f54_95d3_11eb_9a88_0242ac1c0002row10_col15\" class=\"data row10 col15\" >9</td>\n",
              "                        <td id=\"T_256a2f54_95d3_11eb_9a88_0242ac1c0002row10_col16\" class=\"data row10 col16\" >0</td>\n",
              "                        <td id=\"T_256a2f54_95d3_11eb_9a88_0242ac1c0002row10_col17\" class=\"data row10 col17\" >0</td>\n",
              "            </tr>\n",
              "            <tr>\n",
              "                        <th id=\"T_256a2f54_95d3_11eb_9a88_0242ac1c0002level0_row11\" class=\"row_heading level0 row11\" >11</th>\n",
              "                        <td id=\"T_256a2f54_95d3_11eb_9a88_0242ac1c0002row11_col0\" class=\"data row11 col0\" >0</td>\n",
              "                        <td id=\"T_256a2f54_95d3_11eb_9a88_0242ac1c0002row11_col1\" class=\"data row11 col1\" >0</td>\n",
              "                        <td id=\"T_256a2f54_95d3_11eb_9a88_0242ac1c0002row11_col2\" class=\"data row11 col2\" >0</td>\n",
              "                        <td id=\"T_256a2f54_95d3_11eb_9a88_0242ac1c0002row11_col3\" class=\"data row11 col3\" >0</td>\n",
              "                        <td id=\"T_256a2f54_95d3_11eb_9a88_0242ac1c0002row11_col4\" class=\"data row11 col4\" >0</td>\n",
              "                        <td id=\"T_256a2f54_95d3_11eb_9a88_0242ac1c0002row11_col5\" class=\"data row11 col5\" >0</td>\n",
              "                        <td id=\"T_256a2f54_95d3_11eb_9a88_0242ac1c0002row11_col6\" class=\"data row11 col6\" >0</td>\n",
              "                        <td id=\"T_256a2f54_95d3_11eb_9a88_0242ac1c0002row11_col7\" class=\"data row11 col7\" >0</td>\n",
              "                        <td id=\"T_256a2f54_95d3_11eb_9a88_0242ac1c0002row11_col8\" class=\"data row11 col8\" >0</td>\n",
              "                        <td id=\"T_256a2f54_95d3_11eb_9a88_0242ac1c0002row11_col9\" class=\"data row11 col9\" >0</td>\n",
              "                        <td id=\"T_256a2f54_95d3_11eb_9a88_0242ac1c0002row11_col10\" class=\"data row11 col10\" >0</td>\n",
              "                        <td id=\"T_256a2f54_95d3_11eb_9a88_0242ac1c0002row11_col11\" class=\"data row11 col11\" >0</td>\n",
              "                        <td id=\"T_256a2f54_95d3_11eb_9a88_0242ac1c0002row11_col12\" class=\"data row11 col12\" >191</td>\n",
              "                        <td id=\"T_256a2f54_95d3_11eb_9a88_0242ac1c0002row11_col13\" class=\"data row11 col13\" >254</td>\n",
              "                        <td id=\"T_256a2f54_95d3_11eb_9a88_0242ac1c0002row11_col14\" class=\"data row11 col14\" >137</td>\n",
              "                        <td id=\"T_256a2f54_95d3_11eb_9a88_0242ac1c0002row11_col15\" class=\"data row11 col15\" >0</td>\n",
              "                        <td id=\"T_256a2f54_95d3_11eb_9a88_0242ac1c0002row11_col16\" class=\"data row11 col16\" >0</td>\n",
              "                        <td id=\"T_256a2f54_95d3_11eb_9a88_0242ac1c0002row11_col17\" class=\"data row11 col17\" >0</td>\n",
              "            </tr>\n",
              "            <tr>\n",
              "                        <th id=\"T_256a2f54_95d3_11eb_9a88_0242ac1c0002level0_row12\" class=\"row_heading level0 row12\" >12</th>\n",
              "                        <td id=\"T_256a2f54_95d3_11eb_9a88_0242ac1c0002row12_col0\" class=\"data row12 col0\" >0</td>\n",
              "                        <td id=\"T_256a2f54_95d3_11eb_9a88_0242ac1c0002row12_col1\" class=\"data row12 col1\" >0</td>\n",
              "                        <td id=\"T_256a2f54_95d3_11eb_9a88_0242ac1c0002row12_col2\" class=\"data row12 col2\" >0</td>\n",
              "                        <td id=\"T_256a2f54_95d3_11eb_9a88_0242ac1c0002row12_col3\" class=\"data row12 col3\" >0</td>\n",
              "                        <td id=\"T_256a2f54_95d3_11eb_9a88_0242ac1c0002row12_col4\" class=\"data row12 col4\" >0</td>\n",
              "                        <td id=\"T_256a2f54_95d3_11eb_9a88_0242ac1c0002row12_col5\" class=\"data row12 col5\" >0</td>\n",
              "                        <td id=\"T_256a2f54_95d3_11eb_9a88_0242ac1c0002row12_col6\" class=\"data row12 col6\" >0</td>\n",
              "                        <td id=\"T_256a2f54_95d3_11eb_9a88_0242ac1c0002row12_col7\" class=\"data row12 col7\" >0</td>\n",
              "                        <td id=\"T_256a2f54_95d3_11eb_9a88_0242ac1c0002row12_col8\" class=\"data row12 col8\" >0</td>\n",
              "                        <td id=\"T_256a2f54_95d3_11eb_9a88_0242ac1c0002row12_col9\" class=\"data row12 col9\" >0</td>\n",
              "                        <td id=\"T_256a2f54_95d3_11eb_9a88_0242ac1c0002row12_col10\" class=\"data row12 col10\" >0</td>\n",
              "                        <td id=\"T_256a2f54_95d3_11eb_9a88_0242ac1c0002row12_col11\" class=\"data row12 col11\" >86</td>\n",
              "                        <td id=\"T_256a2f54_95d3_11eb_9a88_0242ac1c0002row12_col12\" class=\"data row12 col12\" >251</td>\n",
              "                        <td id=\"T_256a2f54_95d3_11eb_9a88_0242ac1c0002row12_col13\" class=\"data row12 col13\" >254</td>\n",
              "                        <td id=\"T_256a2f54_95d3_11eb_9a88_0242ac1c0002row12_col14\" class=\"data row12 col14\" >53</td>\n",
              "                        <td id=\"T_256a2f54_95d3_11eb_9a88_0242ac1c0002row12_col15\" class=\"data row12 col15\" >0</td>\n",
              "                        <td id=\"T_256a2f54_95d3_11eb_9a88_0242ac1c0002row12_col16\" class=\"data row12 col16\" >0</td>\n",
              "                        <td id=\"T_256a2f54_95d3_11eb_9a88_0242ac1c0002row12_col17\" class=\"data row12 col17\" >0</td>\n",
              "            </tr>\n",
              "            <tr>\n",
              "                        <th id=\"T_256a2f54_95d3_11eb_9a88_0242ac1c0002level0_row13\" class=\"row_heading level0 row13\" >13</th>\n",
              "                        <td id=\"T_256a2f54_95d3_11eb_9a88_0242ac1c0002row13_col0\" class=\"data row13 col0\" >0</td>\n",
              "                        <td id=\"T_256a2f54_95d3_11eb_9a88_0242ac1c0002row13_col1\" class=\"data row13 col1\" >0</td>\n",
              "                        <td id=\"T_256a2f54_95d3_11eb_9a88_0242ac1c0002row13_col2\" class=\"data row13 col2\" >0</td>\n",
              "                        <td id=\"T_256a2f54_95d3_11eb_9a88_0242ac1c0002row13_col3\" class=\"data row13 col3\" >0</td>\n",
              "                        <td id=\"T_256a2f54_95d3_11eb_9a88_0242ac1c0002row13_col4\" class=\"data row13 col4\" >0</td>\n",
              "                        <td id=\"T_256a2f54_95d3_11eb_9a88_0242ac1c0002row13_col5\" class=\"data row13 col5\" >0</td>\n",
              "                        <td id=\"T_256a2f54_95d3_11eb_9a88_0242ac1c0002row13_col6\" class=\"data row13 col6\" >0</td>\n",
              "                        <td id=\"T_256a2f54_95d3_11eb_9a88_0242ac1c0002row13_col7\" class=\"data row13 col7\" >0</td>\n",
              "                        <td id=\"T_256a2f54_95d3_11eb_9a88_0242ac1c0002row13_col8\" class=\"data row13 col8\" >0</td>\n",
              "                        <td id=\"T_256a2f54_95d3_11eb_9a88_0242ac1c0002row13_col9\" class=\"data row13 col9\" >0</td>\n",
              "                        <td id=\"T_256a2f54_95d3_11eb_9a88_0242ac1c0002row13_col10\" class=\"data row13 col10\" >0</td>\n",
              "                        <td id=\"T_256a2f54_95d3_11eb_9a88_0242ac1c0002row13_col11\" class=\"data row13 col11\" >225</td>\n",
              "                        <td id=\"T_256a2f54_95d3_11eb_9a88_0242ac1c0002row13_col12\" class=\"data row13 col12\" >254</td>\n",
              "                        <td id=\"T_256a2f54_95d3_11eb_9a88_0242ac1c0002row13_col13\" class=\"data row13 col13\" >106</td>\n",
              "                        <td id=\"T_256a2f54_95d3_11eb_9a88_0242ac1c0002row13_col14\" class=\"data row13 col14\" >0</td>\n",
              "                        <td id=\"T_256a2f54_95d3_11eb_9a88_0242ac1c0002row13_col15\" class=\"data row13 col15\" >0</td>\n",
              "                        <td id=\"T_256a2f54_95d3_11eb_9a88_0242ac1c0002row13_col16\" class=\"data row13 col16\" >0</td>\n",
              "                        <td id=\"T_256a2f54_95d3_11eb_9a88_0242ac1c0002row13_col17\" class=\"data row13 col17\" >0</td>\n",
              "            </tr>\n",
              "            <tr>\n",
              "                        <th id=\"T_256a2f54_95d3_11eb_9a88_0242ac1c0002level0_row14\" class=\"row_heading level0 row14\" >14</th>\n",
              "                        <td id=\"T_256a2f54_95d3_11eb_9a88_0242ac1c0002row14_col0\" class=\"data row14 col0\" >0</td>\n",
              "                        <td id=\"T_256a2f54_95d3_11eb_9a88_0242ac1c0002row14_col1\" class=\"data row14 col1\" >0</td>\n",
              "                        <td id=\"T_256a2f54_95d3_11eb_9a88_0242ac1c0002row14_col2\" class=\"data row14 col2\" >0</td>\n",
              "                        <td id=\"T_256a2f54_95d3_11eb_9a88_0242ac1c0002row14_col3\" class=\"data row14 col3\" >0</td>\n",
              "                        <td id=\"T_256a2f54_95d3_11eb_9a88_0242ac1c0002row14_col4\" class=\"data row14 col4\" >0</td>\n",
              "                        <td id=\"T_256a2f54_95d3_11eb_9a88_0242ac1c0002row14_col5\" class=\"data row14 col5\" >0</td>\n",
              "                        <td id=\"T_256a2f54_95d3_11eb_9a88_0242ac1c0002row14_col6\" class=\"data row14 col6\" >0</td>\n",
              "                        <td id=\"T_256a2f54_95d3_11eb_9a88_0242ac1c0002row14_col7\" class=\"data row14 col7\" >0</td>\n",
              "                        <td id=\"T_256a2f54_95d3_11eb_9a88_0242ac1c0002row14_col8\" class=\"data row14 col8\" >0</td>\n",
              "                        <td id=\"T_256a2f54_95d3_11eb_9a88_0242ac1c0002row14_col9\" class=\"data row14 col9\" >0</td>\n",
              "                        <td id=\"T_256a2f54_95d3_11eb_9a88_0242ac1c0002row14_col10\" class=\"data row14 col10\" >139</td>\n",
              "                        <td id=\"T_256a2f54_95d3_11eb_9a88_0242ac1c0002row14_col11\" class=\"data row14 col11\" >254</td>\n",
              "                        <td id=\"T_256a2f54_95d3_11eb_9a88_0242ac1c0002row14_col12\" class=\"data row14 col12\" >155</td>\n",
              "                        <td id=\"T_256a2f54_95d3_11eb_9a88_0242ac1c0002row14_col13\" class=\"data row14 col13\" >10</td>\n",
              "                        <td id=\"T_256a2f54_95d3_11eb_9a88_0242ac1c0002row14_col14\" class=\"data row14 col14\" >0</td>\n",
              "                        <td id=\"T_256a2f54_95d3_11eb_9a88_0242ac1c0002row14_col15\" class=\"data row14 col15\" >0</td>\n",
              "                        <td id=\"T_256a2f54_95d3_11eb_9a88_0242ac1c0002row14_col16\" class=\"data row14 col16\" >0</td>\n",
              "                        <td id=\"T_256a2f54_95d3_11eb_9a88_0242ac1c0002row14_col17\" class=\"data row14 col17\" >0</td>\n",
              "            </tr>\n",
              "            <tr>\n",
              "                        <th id=\"T_256a2f54_95d3_11eb_9a88_0242ac1c0002level0_row15\" class=\"row_heading level0 row15\" >15</th>\n",
              "                        <td id=\"T_256a2f54_95d3_11eb_9a88_0242ac1c0002row15_col0\" class=\"data row15 col0\" >0</td>\n",
              "                        <td id=\"T_256a2f54_95d3_11eb_9a88_0242ac1c0002row15_col1\" class=\"data row15 col1\" >0</td>\n",
              "                        <td id=\"T_256a2f54_95d3_11eb_9a88_0242ac1c0002row15_col2\" class=\"data row15 col2\" >0</td>\n",
              "                        <td id=\"T_256a2f54_95d3_11eb_9a88_0242ac1c0002row15_col3\" class=\"data row15 col3\" >0</td>\n",
              "                        <td id=\"T_256a2f54_95d3_11eb_9a88_0242ac1c0002row15_col4\" class=\"data row15 col4\" >0</td>\n",
              "                        <td id=\"T_256a2f54_95d3_11eb_9a88_0242ac1c0002row15_col5\" class=\"data row15 col5\" >0</td>\n",
              "                        <td id=\"T_256a2f54_95d3_11eb_9a88_0242ac1c0002row15_col6\" class=\"data row15 col6\" >0</td>\n",
              "                        <td id=\"T_256a2f54_95d3_11eb_9a88_0242ac1c0002row15_col7\" class=\"data row15 col7\" >0</td>\n",
              "                        <td id=\"T_256a2f54_95d3_11eb_9a88_0242ac1c0002row15_col8\" class=\"data row15 col8\" >0</td>\n",
              "                        <td id=\"T_256a2f54_95d3_11eb_9a88_0242ac1c0002row15_col9\" class=\"data row15 col9\" >112</td>\n",
              "                        <td id=\"T_256a2f54_95d3_11eb_9a88_0242ac1c0002row15_col10\" class=\"data row15 col10\" >248</td>\n",
              "                        <td id=\"T_256a2f54_95d3_11eb_9a88_0242ac1c0002row15_col11\" class=\"data row15 col11\" >254</td>\n",
              "                        <td id=\"T_256a2f54_95d3_11eb_9a88_0242ac1c0002row15_col12\" class=\"data row15 col12\" >75</td>\n",
              "                        <td id=\"T_256a2f54_95d3_11eb_9a88_0242ac1c0002row15_col13\" class=\"data row15 col13\" >0</td>\n",
              "                        <td id=\"T_256a2f54_95d3_11eb_9a88_0242ac1c0002row15_col14\" class=\"data row15 col14\" >0</td>\n",
              "                        <td id=\"T_256a2f54_95d3_11eb_9a88_0242ac1c0002row15_col15\" class=\"data row15 col15\" >0</td>\n",
              "                        <td id=\"T_256a2f54_95d3_11eb_9a88_0242ac1c0002row15_col16\" class=\"data row15 col16\" >0</td>\n",
              "                        <td id=\"T_256a2f54_95d3_11eb_9a88_0242ac1c0002row15_col17\" class=\"data row15 col17\" >0</td>\n",
              "            </tr>\n",
              "            <tr>\n",
              "                        <th id=\"T_256a2f54_95d3_11eb_9a88_0242ac1c0002level0_row16\" class=\"row_heading level0 row16\" >16</th>\n",
              "                        <td id=\"T_256a2f54_95d3_11eb_9a88_0242ac1c0002row16_col0\" class=\"data row16 col0\" >0</td>\n",
              "                        <td id=\"T_256a2f54_95d3_11eb_9a88_0242ac1c0002row16_col1\" class=\"data row16 col1\" >0</td>\n",
              "                        <td id=\"T_256a2f54_95d3_11eb_9a88_0242ac1c0002row16_col2\" class=\"data row16 col2\" >0</td>\n",
              "                        <td id=\"T_256a2f54_95d3_11eb_9a88_0242ac1c0002row16_col3\" class=\"data row16 col3\" >0</td>\n",
              "                        <td id=\"T_256a2f54_95d3_11eb_9a88_0242ac1c0002row16_col4\" class=\"data row16 col4\" >0</td>\n",
              "                        <td id=\"T_256a2f54_95d3_11eb_9a88_0242ac1c0002row16_col5\" class=\"data row16 col5\" >0</td>\n",
              "                        <td id=\"T_256a2f54_95d3_11eb_9a88_0242ac1c0002row16_col6\" class=\"data row16 col6\" >0</td>\n",
              "                        <td id=\"T_256a2f54_95d3_11eb_9a88_0242ac1c0002row16_col7\" class=\"data row16 col7\" >0</td>\n",
              "                        <td id=\"T_256a2f54_95d3_11eb_9a88_0242ac1c0002row16_col8\" class=\"data row16 col8\" >53</td>\n",
              "                        <td id=\"T_256a2f54_95d3_11eb_9a88_0242ac1c0002row16_col9\" class=\"data row16 col9\" >247</td>\n",
              "                        <td id=\"T_256a2f54_95d3_11eb_9a88_0242ac1c0002row16_col10\" class=\"data row16 col10\" >254</td>\n",
              "                        <td id=\"T_256a2f54_95d3_11eb_9a88_0242ac1c0002row16_col11\" class=\"data row16 col11\" >135</td>\n",
              "                        <td id=\"T_256a2f54_95d3_11eb_9a88_0242ac1c0002row16_col12\" class=\"data row16 col12\" >1</td>\n",
              "                        <td id=\"T_256a2f54_95d3_11eb_9a88_0242ac1c0002row16_col13\" class=\"data row16 col13\" >0</td>\n",
              "                        <td id=\"T_256a2f54_95d3_11eb_9a88_0242ac1c0002row16_col14\" class=\"data row16 col14\" >0</td>\n",
              "                        <td id=\"T_256a2f54_95d3_11eb_9a88_0242ac1c0002row16_col15\" class=\"data row16 col15\" >0</td>\n",
              "                        <td id=\"T_256a2f54_95d3_11eb_9a88_0242ac1c0002row16_col16\" class=\"data row16 col16\" >0</td>\n",
              "                        <td id=\"T_256a2f54_95d3_11eb_9a88_0242ac1c0002row16_col17\" class=\"data row16 col17\" >0</td>\n",
              "            </tr>\n",
              "            <tr>\n",
              "                        <th id=\"T_256a2f54_95d3_11eb_9a88_0242ac1c0002level0_row17\" class=\"row_heading level0 row17\" >17</th>\n",
              "                        <td id=\"T_256a2f54_95d3_11eb_9a88_0242ac1c0002row17_col0\" class=\"data row17 col0\" >0</td>\n",
              "                        <td id=\"T_256a2f54_95d3_11eb_9a88_0242ac1c0002row17_col1\" class=\"data row17 col1\" >0</td>\n",
              "                        <td id=\"T_256a2f54_95d3_11eb_9a88_0242ac1c0002row17_col2\" class=\"data row17 col2\" >0</td>\n",
              "                        <td id=\"T_256a2f54_95d3_11eb_9a88_0242ac1c0002row17_col3\" class=\"data row17 col3\" >0</td>\n",
              "                        <td id=\"T_256a2f54_95d3_11eb_9a88_0242ac1c0002row17_col4\" class=\"data row17 col4\" >0</td>\n",
              "                        <td id=\"T_256a2f54_95d3_11eb_9a88_0242ac1c0002row17_col5\" class=\"data row17 col5\" >0</td>\n",
              "                        <td id=\"T_256a2f54_95d3_11eb_9a88_0242ac1c0002row17_col6\" class=\"data row17 col6\" >0</td>\n",
              "                        <td id=\"T_256a2f54_95d3_11eb_9a88_0242ac1c0002row17_col7\" class=\"data row17 col7\" >29</td>\n",
              "                        <td id=\"T_256a2f54_95d3_11eb_9a88_0242ac1c0002row17_col8\" class=\"data row17 col8\" >224</td>\n",
              "                        <td id=\"T_256a2f54_95d3_11eb_9a88_0242ac1c0002row17_col9\" class=\"data row17 col9\" >254</td>\n",
              "                        <td id=\"T_256a2f54_95d3_11eb_9a88_0242ac1c0002row17_col10\" class=\"data row17 col10\" >162</td>\n",
              "                        <td id=\"T_256a2f54_95d3_11eb_9a88_0242ac1c0002row17_col11\" class=\"data row17 col11\" >12</td>\n",
              "                        <td id=\"T_256a2f54_95d3_11eb_9a88_0242ac1c0002row17_col12\" class=\"data row17 col12\" >0</td>\n",
              "                        <td id=\"T_256a2f54_95d3_11eb_9a88_0242ac1c0002row17_col13\" class=\"data row17 col13\" >0</td>\n",
              "                        <td id=\"T_256a2f54_95d3_11eb_9a88_0242ac1c0002row17_col14\" class=\"data row17 col14\" >0</td>\n",
              "                        <td id=\"T_256a2f54_95d3_11eb_9a88_0242ac1c0002row17_col15\" class=\"data row17 col15\" >0</td>\n",
              "                        <td id=\"T_256a2f54_95d3_11eb_9a88_0242ac1c0002row17_col16\" class=\"data row17 col16\" >0</td>\n",
              "                        <td id=\"T_256a2f54_95d3_11eb_9a88_0242ac1c0002row17_col17\" class=\"data row17 col17\" >0</td>\n",
              "            </tr>\n",
              "    </tbody></table>"
            ],
            "text/plain": [
              "<pandas.io.formats.style.Styler at 0x7f123d907110>"
            ]
          },
          "metadata": {
            "tags": []
          },
          "execution_count": 33
        }
      ]
    },
    {
      "cell_type": "code",
      "metadata": {
        "colab": {
          "base_uri": "https://localhost:8080/"
        },
        "id": "gODxUsEflqJr",
        "outputId": "49d20cda-a627-4721-e296-8c90fd4f9d33"
      },
      "source": [
        "seven_tensors = [tensor(Image.open(o)) for o in sevens]\n",
        "len(seven_tensors)\n",
        "#three_tensors = [tensor(Image.open(o)) for o in threes]\n",
        "#len(three_tensors),len(seven_tensors)"
      ],
      "execution_count": null,
      "outputs": [
        {
          "output_type": "execute_result",
          "data": {
            "text/plain": [
              "6265"
            ]
          },
          "metadata": {
            "tags": []
          },
          "execution_count": 35
        }
      ]
    },
    {
      "cell_type": "code",
      "metadata": {
        "colab": {
          "base_uri": "https://localhost:8080/",
          "height": 102
        },
        "id": "ncR27ROinBCD",
        "outputId": "4bb15645-5e69-46c1-ca9a-03566a4ac1e0"
      },
      "source": [
        "show_image(seven_tensors[8])"
      ],
      "execution_count": null,
      "outputs": [
        {
          "output_type": "execute_result",
          "data": {
            "text/plain": [
              "<matplotlib.axes._subplots.AxesSubplot at 0x7f123bd806d0>"
            ]
          },
          "metadata": {
            "tags": []
          },
          "execution_count": 37
        },
        {
          "output_type": "display_data",
          "data": {
            "image/png": "[encoded data removed]",
            "text/plain": [
              "<Figure size 72x72 with 1 Axes>"
            ]
          },
          "metadata": {
            "tags": [],
            "needs_background": "light"
          }
        }
      ]
    },
    {
      "cell_type": "code",
      "metadata": {
        "colab": {
          "base_uri": "https://localhost:8080/"
        },
        "id": "BMMA6WaInnqR",
        "outputId": "92441ad8-ace0-46e7-ef46-11ea2bd382bf"
      },
      "source": [
        "stacked_sevens = torch.stack(seven_tensors).float()/255\n",
        "stacked_sevens.shape"
      ],
      "execution_count": null,
      "outputs": [
        {
          "output_type": "execute_result",
          "data": {
            "text/plain": [
              "torch.Size([6265, 28, 28])"
            ]
          },
          "metadata": {
            "tags": []
          },
          "execution_count": 40
        }
      ]
    },
    {
      "cell_type": "code",
      "metadata": {
        "colab": {
          "base_uri": "https://localhost:8080/"
        },
        "id": "OBNj5d-8n6Vg",
        "outputId": "3b214a0d-66e4-4eb4-85cf-d814a20df9ae"
      },
      "source": [
        "len(stacked_sevens.shape)"
      ],
      "execution_count": null,
      "outputs": [
        {
          "output_type": "execute_result",
          "data": {
            "text/plain": [
              "3"
            ]
          },
          "metadata": {
            "tags": []
          },
          "execution_count": 42
        }
      ]
    },
    {
      "cell_type": "code",
      "metadata": {
        "colab": {
          "base_uri": "https://localhost:8080/",
          "height": 85
        },
        "id": "2Cq0g04rqZ7E",
        "outputId": "5041f2f4-9b88-483c-d957-75ce5ec97e31"
      },
      "source": [
        "# How the ideal SEVEN value should look like\n",
        "mean7 = stacked_sevens.mean(0)\n",
        "show_image(mean7);"
      ],
      "execution_count": null,
      "outputs": [
        {
          "output_type": "display_data",
          "data": {
            "image/png": "[encoded data removed]",
            "text/plain": [
              "<Figure size 72x72 with 1 Axes>"
            ]
          },
          "metadata": {
            "tags": [],
            "needs_background": "light"
          }
        }
      ]
    },
    {
      "cell_type": "code",
      "metadata": {
        "colab": {
          "base_uri": "https://localhost:8080/",
          "height": 85
        },
        "id": "_3hpZWaFquU6",
        "outputId": "140b82ab-2d96-4ddd-c5e9-d554090fbf4f"
      },
      "source": [
        "a_7 = stacked_sevens[1]\n",
        "show_image(a_7);"
      ],
      "execution_count": null,
      "outputs": [
        {
          "output_type": "display_data",
          "data": {
            "image/png": "[encoded data removed]",
            "text/plain": [
              "<Figure size 72x72 with 1 Axes>"
            ]
          },
          "metadata": {
            "tags": [],
            "needs_background": "light"
          }
        }
      ]
    },
    {
      "cell_type": "code",
      "metadata": {
        "colab": {
          "base_uri": "https://localhost:8080/"
        },
        "id": "9IM8mD-wsPkP",
        "outputId": "df941663-01cc-415b-c0d7-08c0ba372faf"
      },
      "source": [
        "dist_7_abs = (a_7 - mean7).abs().mean()\n",
        "dist_7_sqr = ((a_7 - mean7)**2).mean().sqrt()\n",
        "dist_7_abs,dist_7_sqr"
      ],
      "execution_count": null,
      "outputs": [
        {
          "output_type": "execute_result",
          "data": {
            "text/plain": [
              "(tensor(0.1304), tensor(0.2585))"
            ]
          },
          "metadata": {
            "tags": []
          },
          "execution_count": 51
        }
      ]
    },
    {
      "cell_type": "code",
      "metadata": {
        "colab": {
          "base_uri": "https://localhost:8080/"
        },
        "id": "Oz53HhajsgSo",
        "outputId": "832d2a6a-9d80-4f28-9b9a-2e707551874b"
      },
      "source": [
        "F.mse_loss(a_7,mean7).sqrt()"
      ],
      "execution_count": null,
      "outputs": [
        {
          "output_type": "execute_result",
          "data": {
            "text/plain": [
              "tensor(0.2585)"
            ]
          },
          "metadata": {
            "tags": []
          },
          "execution_count": 53
        }
      ]
    },
    {
      "cell_type": "code",
      "metadata": {
        "colab": {
          "base_uri": "https://localhost:8080/"
        },
        "id": "wiozv3Mi8Kd_",
        "outputId": "beb3ef11-957c-47e0-c0d4-47dee50bce8d"
      },
      "source": [
        "F.l1_loss(a_7.float(),mean7)"
      ],
      "execution_count": null,
      "outputs": [
        {
          "output_type": "execute_result",
          "data": {
            "text/plain": [
              "tensor(0.1304)"
            ]
          },
          "metadata": {
            "tags": []
          },
          "execution_count": 55
        }
      ]
    },
    {
      "cell_type": "code",
      "metadata": {
        "colab": {
          "base_uri": "https://localhost:8080/",
          "height": 126
        },
        "id": "TcMqRiR18Yxp",
        "outputId": "17cb5d00-e4de-42c6-b884-6bb492e0ac8b"
      },
      "source": [
        "#id gradient_descent\n",
        "#caption The gradient descent process\n",
        "#alt Graph showing the steps for Gradient Descent\n",
        "gv('''\n",
        "init->predict->loss->gradient->step->stop\n",
        "step->predict[label=repeat]\n",
        "''')"
      ],
      "execution_count": null,
      "outputs": [
        {
          "output_type": "execute_result",
          "data": {
            "text/plain": [
              "<graphviz.files.Source at 0x7f123b5b5890>"
            ],
            "image/svg+xml": "<?xml version=\"1.0\" encoding=\"UTF-8\" standalone=\"no\"?>\n<!DOCTYPE svg PUBLIC \"-//W3C//DTD SVG 1.1//EN\"\n \"http://www.w3.org/Graphics/SVG/1.1/DTD/svg11.dtd\">\n<!-- Generated by graphviz version 2.40.1 (20161225.0304)\n -->\n<!-- Title: G Pages: 1 -->\n<svg width=\"597pt\" height=\"78pt\"\n viewBox=\"0.00 0.00 596.69 78.00\" xmlns=\"http://www.w3.org/2000/svg\" xmlns:xlink=\"http://www.w3.org/1999/xlink\">\n<g id=\"graph0\" class=\"graph\" transform=\"scale(1 1) rotate(0) translate(4 74)\">\n<title>G</title>\n<polygon fill=\"#ffffff\" stroke=\"transparent\" points=\"-4,4 -4,-74 592.6863,-74 592.6863,4 -4,4\"/>\n<!-- init -->\n<g id=\"node1\" class=\"node\">\n<title>init</title>\n<ellipse fill=\"none\" stroke=\"#000000\" cx=\"27\" cy=\"-18\" rx=\"27\" ry=\"18\"/>\n<text text-anchor=\"middle\" x=\"27\" y=\"-14.3\" font-family=\"Times,serif\" font-size=\"14.00\" fill=\"#000000\">init</text>\n</g>\n<!-- predict -->\n<g id=\"node2\" class=\"node\">\n<title>predict</title>\n<ellipse fill=\"none\" stroke=\"#000000\" cx=\"127.3968\" cy=\"-18\" rx=\"36.2938\" ry=\"18\"/>\n<text text-anchor=\"middle\" x=\"127.3968\" y=\"-14.3\" font-family=\"Times,serif\" font-size=\"14.00\" fill=\"#000000\">predict</text>\n</g>\n<!-- init&#45;&gt;predict -->\n<g id=\"edge1\" class=\"edge\">\n<title>init&#45;&gt;predict</title>\n<path fill=\"none\" stroke=\"#000000\" d=\"M54.1688,-18C62.3543,-18 71.5827,-18 80.6596,-18\"/>\n<polygon fill=\"#000000\" stroke=\"#000000\" points=\"80.7795,-21.5001 90.7795,-18 80.7795,-14.5001 80.7795,-21.5001\"/>\n</g>\n<!-- loss -->\n<g id=\"node3\" class=\"node\">\n<title>loss</title>\n<ellipse fill=\"none\" stroke=\"#000000\" cx=\"227.7935\" cy=\"-52\" rx=\"27\" ry=\"18\"/>\n<text text-anchor=\"middle\" x=\"227.7935\" y=\"-48.3\" font-family=\"Times,serif\" font-size=\"14.00\" fill=\"#000000\">loss</text>\n</g>\n<!-- predict&#45;&gt;loss -->\n<g id=\"edge2\" class=\"edge\">\n<title>predict&#45;&gt;loss</title>\n<path fill=\"none\" stroke=\"#000000\" d=\"M157.5191,-28.2011C168.9806,-32.0826 182.1139,-36.5303 193.9014,-40.5222\"/>\n<polygon fill=\"#000000\" stroke=\"#000000\" points=\"192.8259,-43.8532 203.4202,-43.7458 195.0713,-37.2231 192.8259,-43.8532\"/>\n</g>\n<!-- gradient -->\n<g id=\"node4\" class=\"node\">\n<title>gradient</title>\n<ellipse fill=\"none\" stroke=\"#000000\" cx=\"365.7399\" cy=\"-52\" rx=\"40.8928\" ry=\"18\"/>\n<text text-anchor=\"middle\" x=\"365.7399\" y=\"-48.3\" font-family=\"Times,serif\" font-size=\"14.00\" fill=\"#000000\">gradient</text>\n</g>\n<!-- loss&#45;&gt;gradient -->\n<g id=\"edge3\" class=\"edge\">\n<title>loss&#45;&gt;gradient</title>\n<path fill=\"none\" stroke=\"#000000\" d=\"M255.0473,-52C272.0415,-52 294.4481,-52 314.6545,-52\"/>\n<polygon fill=\"#000000\" stroke=\"#000000\" points=\"314.671,-55.5001 324.671,-52 314.671,-48.5001 314.671,-55.5001\"/>\n</g>\n<!-- step -->\n<g id=\"node5\" class=\"node\">\n<title>step</title>\n<ellipse fill=\"none\" stroke=\"#000000\" cx=\"470.6863\" cy=\"-18\" rx=\"27\" ry=\"18\"/>\n<text text-anchor=\"middle\" x=\"470.6863\" y=\"-14.3\" font-family=\"Times,serif\" font-size=\"14.00\" fill=\"#000000\">step</text>\n</g>\n<!-- gradient&#45;&gt;step -->\n<g id=\"edge4\" class=\"edge\">\n<title>gradient&#45;&gt;step</title>\n<path fill=\"none\" stroke=\"#000000\" d=\"M398.9456,-41.2422C410.9558,-37.3512 424.5297,-32.9536 436.6132,-29.0388\"/>\n<polygon fill=\"#000000\" stroke=\"#000000\" points=\"437.9112,-32.2975 446.3457,-25.8857 435.7537,-25.6382 437.9112,-32.2975\"/>\n</g>\n<!-- step&#45;&gt;predict -->\n<g id=\"edge6\" class=\"edge\">\n<title>step&#45;&gt;predict</title>\n<path fill=\"none\" stroke=\"#000000\" d=\"M443.4266,-18C384.9297,-18 246.7861,-18 174.0495,-18\"/>\n<polygon fill=\"#000000\" stroke=\"#000000\" points=\"173.8098,-14.5001 163.8098,-18 173.8097,-21.5001 173.8098,-14.5001\"/>\n<text text-anchor=\"middle\" x=\"289.7935\" y=\"-21.8\" font-family=\"Times,serif\" font-size=\"14.00\" fill=\"#000000\">repeat</text>\n</g>\n<!-- stop -->\n<g id=\"node6\" class=\"node\">\n<title>stop</title>\n<ellipse fill=\"none\" stroke=\"#000000\" cx=\"561.6863\" cy=\"-18\" rx=\"27\" ry=\"18\"/>\n<text text-anchor=\"middle\" x=\"561.6863\" y=\"-14.3\" font-family=\"Times,serif\" font-size=\"14.00\" fill=\"#000000\">stop</text>\n</g>\n<!-- step&#45;&gt;stop -->\n<g id=\"edge5\" class=\"edge\">\n<title>step&#45;&gt;stop</title>\n<path fill=\"none\" stroke=\"#000000\" d=\"M497.9893,-18C506.2676,-18 515.508,-18 524.3268,-18\"/>\n<polygon fill=\"#000000\" stroke=\"#000000\" points=\"524.4026,-21.5001 534.4025,-18 524.4025,-14.5001 524.4026,-21.5001\"/>\n</g>\n</g>\n</svg>\n"
          },
          "metadata": {
            "tags": []
          },
          "execution_count": 56
        }
      ]
    },
    {
      "cell_type": "code",
      "metadata": {
        "id": "Mq6L9Kqt89W0"
      },
      "source": [
        "def f(x): return x**2"
      ],
      "execution_count": null,
      "outputs": []
    },
    {
      "cell_type": "code",
      "metadata": {
        "colab": {
          "base_uri": "https://localhost:8080/",
          "height": 340
        },
        "id": "ig9ib0kV_YlW",
        "outputId": "937902f3-d84b-48ab-f9af-5e61c72cd50b"
      },
      "source": [
        "plot_function(f, 'x', 'x**2')"
      ],
      "execution_count": null,
      "outputs": [
        {
          "output_type": "stream",
          "text": [
            "/usr/local/lib/python3.7/dist-packages/fastbook/__init__.py:73: UserWarning: Not providing a value for linspace's steps is deprecated and will throw a runtime error in a future release. This warning will appear only once per process. (Triggered internally at  /pytorch/aten/src/ATen/native/RangeFactories.cpp:23.)\n",
            "  x = torch.linspace(min,max)\n"
          ],
          "name": "stderr"
        },
        {
          "output_type": "display_data",
          "data": {
            "image/png": "[encoded data removed]",
            "text/plain": [
              "<Figure size 432x288 with 1 Axes>"
            ]
          },
          "metadata": {
            "tags": [],
            "needs_background": "light"
          }
        }
      ]
    },
    {
      "cell_type": "code",
      "metadata": {
        "colab": {
          "base_uri": "https://localhost:8080/",
          "height": 285
        },
        "id": "zmZ6Kopm_dbB",
        "outputId": "3b11ff45-c02b-4ffe-d995-2371df077efc"
      },
      "source": [
        "plot_function(f, 'x', 'x**2')\n",
        "plt.scatter(-1.5, f(-1.5), color='red');"
      ],
      "execution_count": null,
      "outputs": [
        {
          "output_type": "display_data",
          "data": {
            "image/png": "[encoded data removed]",
            "text/plain": [
              "<Figure size 432x288 with 1 Axes>"
            ]
          },
          "metadata": {
            "tags": [],
            "needs_background": "light"
          }
        }
      ]
    },
    {
      "cell_type": "code",
      "metadata": {
        "id": "Jigdwnao_rXr"
      },
      "source": [
        "xt = tensor(7.).requires_grad_()"
      ],
      "execution_count": null,
      "outputs": []
    },
    {
      "cell_type": "code",
      "metadata": {
        "colab": {
          "base_uri": "https://localhost:8080/"
        },
        "id": "2dxSFBEmCZi7",
        "outputId": "909d747f-7961-4aa8-f8ff-cade40bccb7e"
      },
      "source": [
        "yt = f(xt)\n",
        "yt"
      ],
      "execution_count": null,
      "outputs": [
        {
          "output_type": "execute_result",
          "data": {
            "text/plain": [
              "tensor(49., grad_fn=<PowBackward0>)"
            ]
          },
          "metadata": {
            "tags": []
          },
          "execution_count": 62
        }
      ]
    },
    {
      "cell_type": "code",
      "metadata": {
        "id": "OoAwgraJEBrO"
      },
      "source": [
        "yt.backward()"
      ],
      "execution_count": null,
      "outputs": []
    },
    {
      "cell_type": "code",
      "metadata": {
        "colab": {
          "base_uri": "https://localhost:8080/"
        },
        "id": "vZaV8XI-EqRW",
        "outputId": "6ef6ece8-2d9b-472f-c8ad-db516d2a5901"
      },
      "source": [
        "xt.grad"
      ],
      "execution_count": null,
      "outputs": [
        {
          "output_type": "execute_result",
          "data": {
            "text/plain": [
              "tensor(14.)"
            ]
          },
          "metadata": {
            "tags": []
          },
          "execution_count": 64
        }
      ]
    },
    {
      "cell_type": "code",
      "metadata": {
        "colab": {
          "base_uri": "https://localhost:8080/"
        },
        "id": "JG2fzNZDHk7L",
        "outputId": "cb7b122d-b369-4842-9b44-d5c2ce0b11e1"
      },
      "source": [
        "help(requires_grad)"
      ],
      "execution_count": null,
      "outputs": [
        {
          "output_type": "stream",
          "text": [
            "Help on function requires_grad in module fastai.torch_core:\n",
            "\n",
            "requires_grad(m)\n",
            "    Check if the first parameter of `m` requires grad or not\n",
            "\n"
          ],
          "name": "stdout"
        }
      ]
    },
    {
      "cell_type": "code",
      "metadata": {
        "colab": {
          "base_uri": "https://localhost:8080/"
        },
        "id": "zr25qB_THHcr",
        "outputId": "d4bb3fa5-f209-48a7-da46-9da2164f0c6c"
      },
      "source": [
        "xt = tensor([3.,4.,10.]).requires_grad_(True)\n",
        "xt"
      ],
      "execution_count": null,
      "outputs": [
        {
          "output_type": "execute_result",
          "data": {
            "text/plain": [
              "tensor([ 3.,  4., 10.], requires_grad=True)"
            ]
          },
          "metadata": {
            "tags": []
          },
          "execution_count": 67
        }
      ]
    },
    {
      "cell_type": "code",
      "metadata": {
        "colab": {
          "base_uri": "https://localhost:8080/"
        },
        "id": "1iCfe_HEHdD1",
        "outputId": "bd5165ec-75b2-4936-d110-58bff6956b8f"
      },
      "source": [
        "def f(x): return (x**2).sum()\n",
        "\n",
        "yt = f(xt)\n",
        "yt"
      ],
      "execution_count": null,
      "outputs": [
        {
          "output_type": "execute_result",
          "data": {
            "text/plain": [
              "tensor(125., grad_fn=<SumBackward0>)"
            ]
          },
          "metadata": {
            "tags": []
          },
          "execution_count": 68
        }
      ]
    },
    {
      "cell_type": "code",
      "metadata": {
        "colab": {
          "base_uri": "https://localhost:8080/"
        },
        "id": "8VI7igYvITqb",
        "outputId": "0d06af13-0e46-4f6c-dbc1-a33807546cbc"
      },
      "source": [
        "yt.backward()\n",
        "xt.grad"
      ],
      "execution_count": null,
      "outputs": [
        {
          "output_type": "execute_result",
          "data": {
            "text/plain": [
              "tensor([ 6.,  8., 20.])"
            ]
          },
          "metadata": {
            "tags": []
          },
          "execution_count": 69
        }
      ]
    },
    {
      "cell_type": "code",
      "metadata": {
        "id": "IpNv4oqrIgnT"
      },
      "source": [
        "train_x = torch.cat([stacked_sevens]).view(-1, 28*28)"
      ],
      "execution_count": null,
      "outputs": []
    },
    {
      "cell_type": "code",
      "metadata": {
        "id": "bLzL5QEfKcqf"
      },
      "source": [
        "train_y = torch.cat([stacked_sevens]).view(-1, 28*28)"
      ],
      "execution_count": null,
      "outputs": []
    },
    {
      "cell_type": "code",
      "metadata": {
        "colab": {
          "base_uri": "https://localhost:8080/"
        },
        "id": "noz9SnsdJHt-",
        "outputId": "09c57e0c-0524-4172-cca1-2504230ccd02"
      },
      "source": [
        "train_y = tensor([1]*len(sevens) + [0]*len(sevens)).unsqueeze(1)\n",
        "train_y.shape"
      ],
      "execution_count": null,
      "outputs": [
        {
          "output_type": "execute_result",
          "data": {
            "text/plain": [
              "torch.Size([12530, 1])"
            ]
          },
          "metadata": {
            "tags": []
          },
          "execution_count": 71
        }
      ]
    },
    {
      "cell_type": "code",
      "metadata": {
        "colab": {
          "base_uri": "https://localhost:8080/"
        },
        "id": "zlPrHiZ6Jo7w",
        "outputId": "e6e9c0db-6255-4475-af7c-8b944afb9ab2"
      },
      "source": [
        "# Creating a Dataset\n",
        "dset = list(zip(train_x,train_y))\n",
        "x,y = dset[0]\n",
        "x.shape,y"
      ],
      "execution_count": null,
      "outputs": [
        {
          "output_type": "execute_result",
          "data": {
            "text/plain": [
              "(torch.Size([784]), tensor([1]))"
            ]
          },
          "metadata": {
            "tags": []
          },
          "execution_count": 72
        }
      ]
    },
    {
      "cell_type": "code",
      "metadata": {
        "id": "SjlxkAw2J_b5"
      },
      "source": [
        "def init_params(size, std=1.0): return (torch.randn(size)*std).requires_grad_()"
      ],
      "execution_count": null,
      "outputs": []
    },
    {
      "cell_type": "code",
      "metadata": {
        "id": "-MMqiBikKIIf"
      },
      "source": [
        "weights = init_params((28*28,1))"
      ],
      "execution_count": null,
      "outputs": []
    },
    {
      "cell_type": "code",
      "metadata": {
        "id": "dCS4SpNWLE75"
      },
      "source": [
        "bias = init_params(1)"
      ],
      "execution_count": null,
      "outputs": []
    },
    {
      "cell_type": "code",
      "metadata": {
        "colab": {
          "base_uri": "https://localhost:8080/"
        },
        "id": "wHD9IQQdLV2W",
        "outputId": "e821c0be-cddd-4b8e-cde6-dbe182fdc40b"
      },
      "source": [
        "(train_x[0]*weights.T).sum() + bias"
      ],
      "execution_count": null,
      "outputs": [
        {
          "output_type": "execute_result",
          "data": {
            "text/plain": [
              "tensor([-14.5278], grad_fn=<AddBackward0>)"
            ]
          },
          "metadata": {
            "tags": []
          },
          "execution_count": 81
        }
      ]
    },
    {
      "cell_type": "code",
      "metadata": {
        "colab": {
          "base_uri": "https://localhost:8080/"
        },
        "id": "g3ekaOYELbsx",
        "outputId": "b35d8313-5e90-4f3b-c1fe-730fed9c4707"
      },
      "source": [
        "#In Python, matrix multiplication is represented with the @ operator. Let's try it\n",
        "def linear1(xb): return xb@weights + bias\n",
        "preds = linear1(train_x)\n",
        "preds"
      ],
      "execution_count": null,
      "outputs": [
        {
          "output_type": "execute_result",
          "data": {
            "text/plain": [
              "tensor([[-14.5278],\n",
              "        [ -3.7420],\n",
              "        [-15.8293],\n",
              "        ...,\n",
              "        [-15.9176],\n",
              "        [ -1.6866],\n",
              "        [-11.3568]], grad_fn=<AddBackward0>)"
            ]
          },
          "metadata": {
            "tags": []
          },
          "execution_count": 82
        }
      ]
    },
    {
      "cell_type": "code",
      "metadata": {
        "colab": {
          "base_uri": "https://localhost:8080/"
        },
        "id": "5nRJR8npMTj-",
        "outputId": "c5dbc2a6-8f7b-4524-edff-2ca0d75b7089"
      },
      "source": [
        "corrects = (preds>0.5).float() == train_y\n",
        "corrects"
      ],
      "execution_count": null,
      "outputs": [
        {
          "output_type": "execute_result",
          "data": {
            "text/plain": [
              "tensor([[True, True, True,  ..., True, True, True],\n",
              "        [True, True, True,  ..., True, True, True],\n",
              "        [True, True, True,  ..., True, True, True],\n",
              "        ...,\n",
              "        [True, True, True,  ..., True, True, True],\n",
              "        [True, True, True,  ..., True, True, True],\n",
              "        [True, True, True,  ..., True, True, True]])"
            ]
          },
          "metadata": {
            "tags": []
          },
          "execution_count": 83
        }
      ]
    },
    {
      "cell_type": "code",
      "metadata": {
        "colab": {
          "base_uri": "https://localhost:8080/"
        },
        "id": "cNWYhMtvMd-1",
        "outputId": "85cc2568-2a92-484b-c819-9cfad866b9a7"
      },
      "source": [
        "corrects = (preds>0.5).float() == train_x\n",
        "corrects"
      ],
      "execution_count": null,
      "outputs": [
        {
          "output_type": "execute_result",
          "data": {
            "text/plain": [
              "tensor([[True, True, True,  ..., True, True, True],\n",
              "        [True, True, True,  ..., True, True, True],\n",
              "        [True, True, True,  ..., True, True, True],\n",
              "        ...,\n",
              "        [True, True, True,  ..., True, True, True],\n",
              "        [True, True, True,  ..., True, True, True],\n",
              "        [True, True, True,  ..., True, True, True]])"
            ]
          },
          "metadata": {
            "tags": []
          },
          "execution_count": 84
        }
      ]
    },
    {
      "cell_type": "code",
      "metadata": {
        "id": "fG67fU0XMi8G"
      },
      "source": [
        "trgts  = tensor([1,0,1])\n",
        "prds   = tensor([0.9, 0.4, 0.2])"
      ],
      "execution_count": null,
      "outputs": []
    },
    {
      "cell_type": "code",
      "metadata": {
        "id": "yPDeoWQ6O7tV"
      },
      "source": [
        "# Here's a first try at a loss function that measures the distance between predictions and targets\n",
        "def mnist_loss(predictions, targets):\n",
        "    return torch.where(targets==1, 1-predictions, predictions).mean()"
      ],
      "execution_count": null,
      "outputs": []
    },
    {
      "cell_type": "code",
      "metadata": {
        "colab": {
          "base_uri": "https://localhost:8080/"
        },
        "id": "7ZtDNNg9PGUw",
        "outputId": "64ee1ce4-a0a5-4f8a-94ad-92133b753a0d"
      },
      "source": [
        "torch.where(trgts==1, 1-prds, prds)"
      ],
      "execution_count": null,
      "outputs": [
        {
          "output_type": "execute_result",
          "data": {
            "text/plain": [
              "tensor([0.1000, 0.4000, 0.8000])"
            ]
          },
          "metadata": {
            "tags": []
          },
          "execution_count": 87
        }
      ]
    },
    {
      "cell_type": "code",
      "metadata": {
        "colab": {
          "base_uri": "https://localhost:8080/"
        },
        "id": "9KUG5Y4YQyBx",
        "outputId": "62e514ff-f0b7-42e0-ee8e-70a44608fbeb"
      },
      "source": [
        "mnist_loss(prds,trgts)"
      ],
      "execution_count": null,
      "outputs": [
        {
          "output_type": "execute_result",
          "data": {
            "text/plain": [
              "tensor(0.4333)"
            ]
          },
          "metadata": {
            "tags": []
          },
          "execution_count": 88
        }
      ]
    },
    {
      "cell_type": "code",
      "metadata": {
        "id": "ZqILNIi9ROzX"
      },
      "source": [
        "def sigmoid(x): return 1/(1+torch.exp(-x))"
      ],
      "execution_count": null,
      "outputs": []
    },
    {
      "cell_type": "code",
      "metadata": {
        "colab": {
          "base_uri": "https://localhost:8080/",
          "height": 285
        },
        "id": "9M2prz7CRXgE",
        "outputId": "432245a5-8b2b-4970-e526-070f19ba295b"
      },
      "source": [
        "plot_function(torch.sigmoid, title='Sigmoid', min=-10, max=10)"
      ],
      "execution_count": null,
      "outputs": [
        {
          "output_type": "display_data",
          "data": {
            "image/png": "[encoded data removed]",
            "text/plain": [
              "<Figure size 432x288 with 1 Axes>"
            ]
          },
          "metadata": {
            "tags": [],
            "needs_background": "light"
          }
        }
      ]
    },
    {
      "cell_type": "code",
      "metadata": {
        "id": "AiXDZb93Ricb"
      },
      "source": [
        "def mnist_loss(predictions, targets):\n",
        "    predictions = predictions.sigmoid()\n",
        "    return torch.where(targets==1, 1-predictions, predictions).mean()"
      ],
      "execution_count": null,
      "outputs": []
    },
    {
      "cell_type": "code",
      "metadata": {
        "colab": {
          "base_uri": "https://localhost:8080/"
        },
        "id": "scIUMZLLR8xS",
        "outputId": "34311de3-2c09-4f5a-c953-a2b8018f745f"
      },
      "source": [
        "coll = range(15)\n",
        "dl = DataLoader(coll, batch_size=5, shuffle=True)\n",
        "list(dl)"
      ],
      "execution_count": null,
      "outputs": [
        {
          "output_type": "execute_result",
          "data": {
            "text/plain": [
              "[tensor([ 3, 12,  8, 10,  2]),\n",
              " tensor([ 9,  4,  7, 14,  5]),\n",
              " tensor([ 1, 13,  0,  6, 11])]"
            ]
          },
          "metadata": {
            "tags": []
          },
          "execution_count": 93
        }
      ]
    },
    {
      "cell_type": "code",
      "metadata": {
        "colab": {
          "base_uri": "https://localhost:8080/"
        },
        "id": "JFv3h5wJZVyw",
        "outputId": "e01c4e85-fadb-446d-8388-57e5101af264"
      },
      "source": [
        "coll = range(15)\n",
        "dl = DataLoader(coll, batch_size=3, shuffle=True)\n",
        "list(dl)"
      ],
      "execution_count": null,
      "outputs": [
        {
          "output_type": "execute_result",
          "data": {
            "text/plain": [
              "[tensor([14,  9,  7]),\n",
              " tensor([ 0, 12,  6]),\n",
              " tensor([11,  4,  2]),\n",
              " tensor([8, 5, 3]),\n",
              " tensor([ 1, 13, 10])]"
            ]
          },
          "metadata": {
            "tags": []
          },
          "execution_count": 95
        }
      ]
    },
    {
      "cell_type": "code",
      "metadata": {
        "id": "KYqmXLT7iCHf"
      },
      "source": [
        ""
      ],
      "execution_count": null,
      "outputs": []
    }
  ]
}